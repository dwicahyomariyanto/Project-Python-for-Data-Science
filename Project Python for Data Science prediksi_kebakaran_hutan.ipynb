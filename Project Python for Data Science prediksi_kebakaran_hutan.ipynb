{
  "metadata": {
    "kernelspec": {
      "language": "python",
      "display_name": "Python 3",
      "name": "python3"
    },
    "language_info": {
      "pygments_lexer": "ipython3",
      "nbconvert_exporter": "python",
      "version": "3.6.4",
      "file_extension": ".py",
      "codemirror_mode": {
        "name": "ipython",
        "version": 3
      },
      "name": "python",
      "mimetype": "text/x-python"
    },
    "kaggle": {
      "accelerator": "none",
      "dataSources": [
        {
          "sourceId": 4813590,
          "sourceType": "datasetVersion",
          "datasetId": 2787292
        }
      ],
      "dockerImageVersionId": 30357,
      "isInternetEnabled": false,
      "language": "python",
      "sourceType": "notebook",
      "isGpuEnabled": false
    },
    "colab": {
      "provenance": []
    }
  },
  "nbformat_minor": 0,
  "nbformat": 4,
  "cells": [
    {
      "cell_type": "code",
      "source": [
        "# This Python 3 environment comes with many helpful analytics libraries installed\n",
        "# It is defined by the kaggle/python Docker image: https://github.com/kaggle/docker-python\n",
        "# For example, here's several helpful packages to load\n",
        "\n",
        "import numpy as np # linear algebra\n",
        "import pandas as pd # data processing, CSV file I/O (e.g. pd.read_csv)\n",
        "\n",
        "# Input data files are available in the read-only \"../input/\" directory\n",
        "# For example, running this (by clicking run or pressing Shift+Enter) will list all files under the input directory\n",
        "\n",
        "import os\n",
        "for dirname, _, filenames in os.walk('/kaggle/input'):\n",
        "    for filename in filenames:\n",
        "        print(os.path.join(dirname, filename))\n",
        "\n",
        "# You can write up to 20GB to the current directory (/kaggle/working/) that gets preserved as output when you create a version using \"Save & Run All\"\n",
        "# You can also write temporary files to /kaggle/temp/, but they won't be saved outside of the current session"
      ],
      "metadata": {
        "_uuid": "8f2839f25d086af736a60e9eeb907d3b93b6e0e5",
        "_cell_guid": "b1076dfc-b9ad-4769-8c92-a6c4dae69d19",
        "execution": {
          "iopub.status.busy": "2023-01-07T07:07:17.2392Z",
          "iopub.execute_input": "2023-01-07T07:07:17.240007Z",
          "iopub.status.idle": "2023-01-07T07:07:17.264306Z",
          "shell.execute_reply.started": "2023-01-07T07:07:17.239887Z",
          "shell.execute_reply": "2023-01-07T07:07:17.262875Z"
        },
        "trusted": true,
        "id": "2TjyUIkc-SzL"
      },
      "execution_count": null,
      "outputs": []
    },
    {
      "cell_type": "code",
      "source": [
        "df = pd.read_csv('/content/forestfires.csv')"
      ],
      "metadata": {
        "execution": {
          "iopub.status.busy": "2023-01-07T07:07:17.265832Z",
          "iopub.execute_input": "2023-01-07T07:07:17.266269Z",
          "iopub.status.idle": "2023-01-07T07:07:17.277655Z",
          "shell.execute_reply.started": "2023-01-07T07:07:17.266234Z",
          "shell.execute_reply": "2023-01-07T07:07:17.276407Z"
        },
        "trusted": true,
        "id": "KTA54oEt-SzO"
      },
      "execution_count": null,
      "outputs": []
    },
    {
      "cell_type": "code",
      "source": [
        "df.head(5)"
      ],
      "metadata": {
        "execution": {
          "iopub.status.busy": "2023-01-07T07:07:17.279127Z",
          "iopub.execute_input": "2023-01-07T07:07:17.280028Z",
          "iopub.status.idle": "2023-01-07T07:07:17.305179Z",
          "shell.execute_reply.started": "2023-01-07T07:07:17.279991Z",
          "shell.execute_reply": "2023-01-07T07:07:17.303984Z"
        },
        "trusted": true,
        "colab": {
          "base_uri": "https://localhost:8080/",
          "height": 206
        },
        "id": "5qB3ry4m-SzP",
        "outputId": "70714d03-4cc9-434d-96ea-18e66e1ab781"
      },
      "execution_count": null,
      "outputs": [
        {
          "output_type": "execute_result",
          "data": {
            "text/plain": [
              "   X  Y month  day  FFMC   DMC     DC  ISI  temp  RH  wind  rain  area\n",
              "0  7  5   mar  fri  86.2  26.2   94.3  5.1   8.2  51   6.7   0.0   0.0\n",
              "1  7  4   oct  tue  90.6  35.4  669.1  6.7  18.0  33   0.9   0.0   0.0\n",
              "2  7  4   oct  sat  90.6  43.7  686.9  6.7  14.6  33   1.3   0.0   0.0\n",
              "3  8  6   mar  fri  91.7  33.3   77.5  9.0   8.3  97   4.0   0.2   0.0\n",
              "4  8  6   mar  sun  89.3  51.3  102.2  9.6  11.4  99   1.8   0.0   0.0"
            ],
            "text/html": [
              "\n",
              "  <div id=\"df-82c60f4a-43a7-4be2-97d0-310102ebb020\" class=\"colab-df-container\">\n",
              "    <div>\n",
              "<style scoped>\n",
              "    .dataframe tbody tr th:only-of-type {\n",
              "        vertical-align: middle;\n",
              "    }\n",
              "\n",
              "    .dataframe tbody tr th {\n",
              "        vertical-align: top;\n",
              "    }\n",
              "\n",
              "    .dataframe thead th {\n",
              "        text-align: right;\n",
              "    }\n",
              "</style>\n",
              "<table border=\"1\" class=\"dataframe\">\n",
              "  <thead>\n",
              "    <tr style=\"text-align: right;\">\n",
              "      <th></th>\n",
              "      <th>X</th>\n",
              "      <th>Y</th>\n",
              "      <th>month</th>\n",
              "      <th>day</th>\n",
              "      <th>FFMC</th>\n",
              "      <th>DMC</th>\n",
              "      <th>DC</th>\n",
              "      <th>ISI</th>\n",
              "      <th>temp</th>\n",
              "      <th>RH</th>\n",
              "      <th>wind</th>\n",
              "      <th>rain</th>\n",
              "      <th>area</th>\n",
              "    </tr>\n",
              "  </thead>\n",
              "  <tbody>\n",
              "    <tr>\n",
              "      <th>0</th>\n",
              "      <td>7</td>\n",
              "      <td>5</td>\n",
              "      <td>mar</td>\n",
              "      <td>fri</td>\n",
              "      <td>86.2</td>\n",
              "      <td>26.2</td>\n",
              "      <td>94.3</td>\n",
              "      <td>5.1</td>\n",
              "      <td>8.2</td>\n",
              "      <td>51</td>\n",
              "      <td>6.7</td>\n",
              "      <td>0.0</td>\n",
              "      <td>0.0</td>\n",
              "    </tr>\n",
              "    <tr>\n",
              "      <th>1</th>\n",
              "      <td>7</td>\n",
              "      <td>4</td>\n",
              "      <td>oct</td>\n",
              "      <td>tue</td>\n",
              "      <td>90.6</td>\n",
              "      <td>35.4</td>\n",
              "      <td>669.1</td>\n",
              "      <td>6.7</td>\n",
              "      <td>18.0</td>\n",
              "      <td>33</td>\n",
              "      <td>0.9</td>\n",
              "      <td>0.0</td>\n",
              "      <td>0.0</td>\n",
              "    </tr>\n",
              "    <tr>\n",
              "      <th>2</th>\n",
              "      <td>7</td>\n",
              "      <td>4</td>\n",
              "      <td>oct</td>\n",
              "      <td>sat</td>\n",
              "      <td>90.6</td>\n",
              "      <td>43.7</td>\n",
              "      <td>686.9</td>\n",
              "      <td>6.7</td>\n",
              "      <td>14.6</td>\n",
              "      <td>33</td>\n",
              "      <td>1.3</td>\n",
              "      <td>0.0</td>\n",
              "      <td>0.0</td>\n",
              "    </tr>\n",
              "    <tr>\n",
              "      <th>3</th>\n",
              "      <td>8</td>\n",
              "      <td>6</td>\n",
              "      <td>mar</td>\n",
              "      <td>fri</td>\n",
              "      <td>91.7</td>\n",
              "      <td>33.3</td>\n",
              "      <td>77.5</td>\n",
              "      <td>9.0</td>\n",
              "      <td>8.3</td>\n",
              "      <td>97</td>\n",
              "      <td>4.0</td>\n",
              "      <td>0.2</td>\n",
              "      <td>0.0</td>\n",
              "    </tr>\n",
              "    <tr>\n",
              "      <th>4</th>\n",
              "      <td>8</td>\n",
              "      <td>6</td>\n",
              "      <td>mar</td>\n",
              "      <td>sun</td>\n",
              "      <td>89.3</td>\n",
              "      <td>51.3</td>\n",
              "      <td>102.2</td>\n",
              "      <td>9.6</td>\n",
              "      <td>11.4</td>\n",
              "      <td>99</td>\n",
              "      <td>1.8</td>\n",
              "      <td>0.0</td>\n",
              "      <td>0.0</td>\n",
              "    </tr>\n",
              "  </tbody>\n",
              "</table>\n",
              "</div>\n",
              "    <div class=\"colab-df-buttons\">\n",
              "\n",
              "  <div class=\"colab-df-container\">\n",
              "    <button class=\"colab-df-convert\" onclick=\"convertToInteractive('df-82c60f4a-43a7-4be2-97d0-310102ebb020')\"\n",
              "            title=\"Convert this dataframe to an interactive table.\"\n",
              "            style=\"display:none;\">\n",
              "\n",
              "  <svg xmlns=\"http://www.w3.org/2000/svg\" height=\"24px\" viewBox=\"0 -960 960 960\">\n",
              "    <path d=\"M120-120v-720h720v720H120Zm60-500h600v-160H180v160Zm220 220h160v-160H400v160Zm0 220h160v-160H400v160ZM180-400h160v-160H180v160Zm440 0h160v-160H620v160ZM180-180h160v-160H180v160Zm440 0h160v-160H620v160Z\"/>\n",
              "  </svg>\n",
              "    </button>\n",
              "\n",
              "  <style>\n",
              "    .colab-df-container {\n",
              "      display:flex;\n",
              "      gap: 12px;\n",
              "    }\n",
              "\n",
              "    .colab-df-convert {\n",
              "      background-color: #E8F0FE;\n",
              "      border: none;\n",
              "      border-radius: 50%;\n",
              "      cursor: pointer;\n",
              "      display: none;\n",
              "      fill: #1967D2;\n",
              "      height: 32px;\n",
              "      padding: 0 0 0 0;\n",
              "      width: 32px;\n",
              "    }\n",
              "\n",
              "    .colab-df-convert:hover {\n",
              "      background-color: #E2EBFA;\n",
              "      box-shadow: 0px 1px 2px rgba(60, 64, 67, 0.3), 0px 1px 3px 1px rgba(60, 64, 67, 0.15);\n",
              "      fill: #174EA6;\n",
              "    }\n",
              "\n",
              "    .colab-df-buttons div {\n",
              "      margin-bottom: 4px;\n",
              "    }\n",
              "\n",
              "    [theme=dark] .colab-df-convert {\n",
              "      background-color: #3B4455;\n",
              "      fill: #D2E3FC;\n",
              "    }\n",
              "\n",
              "    [theme=dark] .colab-df-convert:hover {\n",
              "      background-color: #434B5C;\n",
              "      box-shadow: 0px 1px 3px 1px rgba(0, 0, 0, 0.15);\n",
              "      filter: drop-shadow(0px 1px 2px rgba(0, 0, 0, 0.3));\n",
              "      fill: #FFFFFF;\n",
              "    }\n",
              "  </style>\n",
              "\n",
              "    <script>\n",
              "      const buttonEl =\n",
              "        document.querySelector('#df-82c60f4a-43a7-4be2-97d0-310102ebb020 button.colab-df-convert');\n",
              "      buttonEl.style.display =\n",
              "        google.colab.kernel.accessAllowed ? 'block' : 'none';\n",
              "\n",
              "      async function convertToInteractive(key) {\n",
              "        const element = document.querySelector('#df-82c60f4a-43a7-4be2-97d0-310102ebb020');\n",
              "        const dataTable =\n",
              "          await google.colab.kernel.invokeFunction('convertToInteractive',\n",
              "                                                    [key], {});\n",
              "        if (!dataTable) return;\n",
              "\n",
              "        const docLinkHtml = 'Like what you see? Visit the ' +\n",
              "          '<a target=\"_blank\" href=https://colab.research.google.com/notebooks/data_table.ipynb>data table notebook</a>'\n",
              "          + ' to learn more about interactive tables.';\n",
              "        element.innerHTML = '';\n",
              "        dataTable['output_type'] = 'display_data';\n",
              "        await google.colab.output.renderOutput(dataTable, element);\n",
              "        const docLink = document.createElement('div');\n",
              "        docLink.innerHTML = docLinkHtml;\n",
              "        element.appendChild(docLink);\n",
              "      }\n",
              "    </script>\n",
              "  </div>\n",
              "\n",
              "\n",
              "<div id=\"df-c5aae0ab-d2b7-4ff2-a5a9-7665697bd9df\">\n",
              "  <button class=\"colab-df-quickchart\" onclick=\"quickchart('df-c5aae0ab-d2b7-4ff2-a5a9-7665697bd9df')\"\n",
              "            title=\"Suggest charts\"\n",
              "            style=\"display:none;\">\n",
              "\n",
              "<svg xmlns=\"http://www.w3.org/2000/svg\" height=\"24px\"viewBox=\"0 0 24 24\"\n",
              "     width=\"24px\">\n",
              "    <g>\n",
              "        <path d=\"M19 3H5c-1.1 0-2 .9-2 2v14c0 1.1.9 2 2 2h14c1.1 0 2-.9 2-2V5c0-1.1-.9-2-2-2zM9 17H7v-7h2v7zm4 0h-2V7h2v10zm4 0h-2v-4h2v4z\"/>\n",
              "    </g>\n",
              "</svg>\n",
              "  </button>\n",
              "\n",
              "<style>\n",
              "  .colab-df-quickchart {\n",
              "      --bg-color: #E8F0FE;\n",
              "      --fill-color: #1967D2;\n",
              "      --hover-bg-color: #E2EBFA;\n",
              "      --hover-fill-color: #174EA6;\n",
              "      --disabled-fill-color: #AAA;\n",
              "      --disabled-bg-color: #DDD;\n",
              "  }\n",
              "\n",
              "  [theme=dark] .colab-df-quickchart {\n",
              "      --bg-color: #3B4455;\n",
              "      --fill-color: #D2E3FC;\n",
              "      --hover-bg-color: #434B5C;\n",
              "      --hover-fill-color: #FFFFFF;\n",
              "      --disabled-bg-color: #3B4455;\n",
              "      --disabled-fill-color: #666;\n",
              "  }\n",
              "\n",
              "  .colab-df-quickchart {\n",
              "    background-color: var(--bg-color);\n",
              "    border: none;\n",
              "    border-radius: 50%;\n",
              "    cursor: pointer;\n",
              "    display: none;\n",
              "    fill: var(--fill-color);\n",
              "    height: 32px;\n",
              "    padding: 0;\n",
              "    width: 32px;\n",
              "  }\n",
              "\n",
              "  .colab-df-quickchart:hover {\n",
              "    background-color: var(--hover-bg-color);\n",
              "    box-shadow: 0 1px 2px rgba(60, 64, 67, 0.3), 0 1px 3px 1px rgba(60, 64, 67, 0.15);\n",
              "    fill: var(--button-hover-fill-color);\n",
              "  }\n",
              "\n",
              "  .colab-df-quickchart-complete:disabled,\n",
              "  .colab-df-quickchart-complete:disabled:hover {\n",
              "    background-color: var(--disabled-bg-color);\n",
              "    fill: var(--disabled-fill-color);\n",
              "    box-shadow: none;\n",
              "  }\n",
              "\n",
              "  .colab-df-spinner {\n",
              "    border: 2px solid var(--fill-color);\n",
              "    border-color: transparent;\n",
              "    border-bottom-color: var(--fill-color);\n",
              "    animation:\n",
              "      spin 1s steps(1) infinite;\n",
              "  }\n",
              "\n",
              "  @keyframes spin {\n",
              "    0% {\n",
              "      border-color: transparent;\n",
              "      border-bottom-color: var(--fill-color);\n",
              "      border-left-color: var(--fill-color);\n",
              "    }\n",
              "    20% {\n",
              "      border-color: transparent;\n",
              "      border-left-color: var(--fill-color);\n",
              "      border-top-color: var(--fill-color);\n",
              "    }\n",
              "    30% {\n",
              "      border-color: transparent;\n",
              "      border-left-color: var(--fill-color);\n",
              "      border-top-color: var(--fill-color);\n",
              "      border-right-color: var(--fill-color);\n",
              "    }\n",
              "    40% {\n",
              "      border-color: transparent;\n",
              "      border-right-color: var(--fill-color);\n",
              "      border-top-color: var(--fill-color);\n",
              "    }\n",
              "    60% {\n",
              "      border-color: transparent;\n",
              "      border-right-color: var(--fill-color);\n",
              "    }\n",
              "    80% {\n",
              "      border-color: transparent;\n",
              "      border-right-color: var(--fill-color);\n",
              "      border-bottom-color: var(--fill-color);\n",
              "    }\n",
              "    90% {\n",
              "      border-color: transparent;\n",
              "      border-bottom-color: var(--fill-color);\n",
              "    }\n",
              "  }\n",
              "</style>\n",
              "\n",
              "  <script>\n",
              "    async function quickchart(key) {\n",
              "      const quickchartButtonEl =\n",
              "        document.querySelector('#' + key + ' button');\n",
              "      quickchartButtonEl.disabled = true;  // To prevent multiple clicks.\n",
              "      quickchartButtonEl.classList.add('colab-df-spinner');\n",
              "      try {\n",
              "        const charts = await google.colab.kernel.invokeFunction(\n",
              "            'suggestCharts', [key], {});\n",
              "      } catch (error) {\n",
              "        console.error('Error during call to suggestCharts:', error);\n",
              "      }\n",
              "      quickchartButtonEl.classList.remove('colab-df-spinner');\n",
              "      quickchartButtonEl.classList.add('colab-df-quickchart-complete');\n",
              "    }\n",
              "    (() => {\n",
              "      let quickchartButtonEl =\n",
              "        document.querySelector('#df-c5aae0ab-d2b7-4ff2-a5a9-7665697bd9df button');\n",
              "      quickchartButtonEl.style.display =\n",
              "        google.colab.kernel.accessAllowed ? 'block' : 'none';\n",
              "    })();\n",
              "  </script>\n",
              "</div>\n",
              "    </div>\n",
              "  </div>\n"
            ],
            "application/vnd.google.colaboratory.intrinsic+json": {
              "type": "dataframe",
              "variable_name": "df",
              "summary": "{\n  \"name\": \"df\",\n  \"rows\": 517,\n  \"fields\": [\n    {\n      \"column\": \"X\",\n      \"properties\": {\n        \"dtype\": \"number\",\n        \"std\": 2,\n        \"min\": 1,\n        \"max\": 9,\n        \"num_unique_values\": 9,\n        \"samples\": [\n          1,\n          8,\n          2\n        ],\n        \"semantic_type\": \"\",\n        \"description\": \"\"\n      }\n    },\n    {\n      \"column\": \"Y\",\n      \"properties\": {\n        \"dtype\": \"number\",\n        \"std\": 1,\n        \"min\": 2,\n        \"max\": 9,\n        \"num_unique_values\": 7,\n        \"samples\": [\n          5,\n          4,\n          9\n        ],\n        \"semantic_type\": \"\",\n        \"description\": \"\"\n      }\n    },\n    {\n      \"column\": \"month\",\n      \"properties\": {\n        \"dtype\": \"category\",\n        \"num_unique_values\": 12,\n        \"samples\": [\n          \"may\",\n          \"dec\",\n          \"mar\"\n        ],\n        \"semantic_type\": \"\",\n        \"description\": \"\"\n      }\n    },\n    {\n      \"column\": \"day\",\n      \"properties\": {\n        \"dtype\": \"category\",\n        \"num_unique_values\": 7,\n        \"samples\": [\n          \"fri\",\n          \"tue\",\n          \"wed\"\n        ],\n        \"semantic_type\": \"\",\n        \"description\": \"\"\n      }\n    },\n    {\n      \"column\": \"FFMC\",\n      \"properties\": {\n        \"dtype\": \"number\",\n        \"std\": 5.520110848851269,\n        \"min\": 18.7,\n        \"max\": 96.2,\n        \"num_unique_values\": 106,\n        \"samples\": [\n          95.9,\n          90.9,\n          92.3\n        ],\n        \"semantic_type\": \"\",\n        \"description\": \"\"\n      }\n    },\n    {\n      \"column\": \"DMC\",\n      \"properties\": {\n        \"dtype\": \"number\",\n        \"std\": 64.04648224925425,\n        \"min\": 1.1,\n        \"max\": 291.3,\n        \"num_unique_values\": 215,\n        \"samples\": [\n          121.7,\n          166.9,\n          130.1\n        ],\n        \"semantic_type\": \"\",\n        \"description\": \"\"\n      }\n    },\n    {\n      \"column\": \"DC\",\n      \"properties\": {\n        \"dtype\": \"number\",\n        \"std\": 248.06619170584364,\n        \"min\": 7.9,\n        \"max\": 860.6,\n        \"num_unique_values\": 219,\n        \"samples\": [\n          458.8,\n          700.7,\n          665.6\n        ],\n        \"semantic_type\": \"\",\n        \"description\": \"\"\n      }\n    },\n    {\n      \"column\": \"ISI\",\n      \"properties\": {\n        \"dtype\": \"number\",\n        \"std\": 4.559477175216039,\n        \"min\": 0.0,\n        \"max\": 56.1,\n        \"num_unique_values\": 119,\n        \"samples\": [\n          7.9,\n          18.0,\n          14.7\n        ],\n        \"semantic_type\": \"\",\n        \"description\": \"\"\n      }\n    },\n    {\n      \"column\": \"temp\",\n      \"properties\": {\n        \"dtype\": \"number\",\n        \"std\": 5.806625349573505,\n        \"min\": 2.2,\n        \"max\": 33.3,\n        \"num_unique_values\": 192,\n        \"samples\": [\n          23.0,\n          4.8,\n          11.6\n        ],\n        \"semantic_type\": \"\",\n        \"description\": \"\"\n      }\n    },\n    {\n      \"column\": \"RH\",\n      \"properties\": {\n        \"dtype\": \"number\",\n        \"std\": 16,\n        \"min\": 15,\n        \"max\": 100,\n        \"num_unique_values\": 75,\n        \"samples\": [\n          29,\n          61,\n          72\n        ],\n        \"semantic_type\": \"\",\n        \"description\": \"\"\n      }\n    },\n    {\n      \"column\": \"wind\",\n      \"properties\": {\n        \"dtype\": \"number\",\n        \"std\": 1.7916526009464617,\n        \"min\": 0.4,\n        \"max\": 9.4,\n        \"num_unique_values\": 21,\n        \"samples\": [\n          6.7,\n          8.5,\n          6.3\n        ],\n        \"semantic_type\": \"\",\n        \"description\": \"\"\n      }\n    },\n    {\n      \"column\": \"rain\",\n      \"properties\": {\n        \"dtype\": \"number\",\n        \"std\": 0.295959120890894,\n        \"min\": 0.0,\n        \"max\": 6.4,\n        \"num_unique_values\": 7,\n        \"samples\": [\n          0.0,\n          0.2,\n          0.4\n        ],\n        \"semantic_type\": \"\",\n        \"description\": \"\"\n      }\n    },\n    {\n      \"column\": \"area\",\n      \"properties\": {\n        \"dtype\": \"number\",\n        \"std\": 63.65581846794089,\n        \"min\": 0.0,\n        \"max\": 1090.84,\n        \"num_unique_values\": 251,\n        \"samples\": [\n          7.48,\n          0.71,\n          1.72\n        ],\n        \"semantic_type\": \"\",\n        \"description\": \"\"\n      }\n    }\n  ]\n}"
            }
          },
          "metadata": {},
          "execution_count": 38
        }
      ]
    },
    {
      "cell_type": "code",
      "source": [
        "df.tail(5)"
      ],
      "metadata": {
        "execution": {
          "iopub.status.busy": "2023-01-07T07:07:17.308046Z",
          "iopub.execute_input": "2023-01-07T07:07:17.309009Z",
          "iopub.status.idle": "2023-01-07T07:07:17.32857Z",
          "shell.execute_reply.started": "2023-01-07T07:07:17.308969Z",
          "shell.execute_reply": "2023-01-07T07:07:17.327196Z"
        },
        "trusted": true,
        "colab": {
          "base_uri": "https://localhost:8080/",
          "height": 206
        },
        "id": "rOzaXLiM-SzP",
        "outputId": "ae9a9a99-9d63-4520-af62-2f75e49a00b7"
      },
      "execution_count": null,
      "outputs": [
        {
          "output_type": "execute_result",
          "data": {
            "text/plain": [
              "     X  Y month  day  FFMC    DMC     DC   ISI  temp  RH  wind  rain   area\n",
              "512  4  3   aug  sun  81.6   56.7  665.6   1.9  27.8  32   2.7   0.0   6.44\n",
              "513  2  4   aug  sun  81.6   56.7  665.6   1.9  21.9  71   5.8   0.0  54.29\n",
              "514  7  4   aug  sun  81.6   56.7  665.6   1.9  21.2  70   6.7   0.0  11.16\n",
              "515  1  4   aug  sat  94.4  146.0  614.7  11.3  25.6  42   4.0   0.0   0.00\n",
              "516  6  3   nov  tue  79.5    3.0  106.7   1.1  11.8  31   4.5   0.0   0.00"
            ],
            "text/html": [
              "\n",
              "  <div id=\"df-f1f15aa8-9bc1-415e-8b62-dfa7e8b4eaa5\" class=\"colab-df-container\">\n",
              "    <div>\n",
              "<style scoped>\n",
              "    .dataframe tbody tr th:only-of-type {\n",
              "        vertical-align: middle;\n",
              "    }\n",
              "\n",
              "    .dataframe tbody tr th {\n",
              "        vertical-align: top;\n",
              "    }\n",
              "\n",
              "    .dataframe thead th {\n",
              "        text-align: right;\n",
              "    }\n",
              "</style>\n",
              "<table border=\"1\" class=\"dataframe\">\n",
              "  <thead>\n",
              "    <tr style=\"text-align: right;\">\n",
              "      <th></th>\n",
              "      <th>X</th>\n",
              "      <th>Y</th>\n",
              "      <th>month</th>\n",
              "      <th>day</th>\n",
              "      <th>FFMC</th>\n",
              "      <th>DMC</th>\n",
              "      <th>DC</th>\n",
              "      <th>ISI</th>\n",
              "      <th>temp</th>\n",
              "      <th>RH</th>\n",
              "      <th>wind</th>\n",
              "      <th>rain</th>\n",
              "      <th>area</th>\n",
              "    </tr>\n",
              "  </thead>\n",
              "  <tbody>\n",
              "    <tr>\n",
              "      <th>512</th>\n",
              "      <td>4</td>\n",
              "      <td>3</td>\n",
              "      <td>aug</td>\n",
              "      <td>sun</td>\n",
              "      <td>81.6</td>\n",
              "      <td>56.7</td>\n",
              "      <td>665.6</td>\n",
              "      <td>1.9</td>\n",
              "      <td>27.8</td>\n",
              "      <td>32</td>\n",
              "      <td>2.7</td>\n",
              "      <td>0.0</td>\n",
              "      <td>6.44</td>\n",
              "    </tr>\n",
              "    <tr>\n",
              "      <th>513</th>\n",
              "      <td>2</td>\n",
              "      <td>4</td>\n",
              "      <td>aug</td>\n",
              "      <td>sun</td>\n",
              "      <td>81.6</td>\n",
              "      <td>56.7</td>\n",
              "      <td>665.6</td>\n",
              "      <td>1.9</td>\n",
              "      <td>21.9</td>\n",
              "      <td>71</td>\n",
              "      <td>5.8</td>\n",
              "      <td>0.0</td>\n",
              "      <td>54.29</td>\n",
              "    </tr>\n",
              "    <tr>\n",
              "      <th>514</th>\n",
              "      <td>7</td>\n",
              "      <td>4</td>\n",
              "      <td>aug</td>\n",
              "      <td>sun</td>\n",
              "      <td>81.6</td>\n",
              "      <td>56.7</td>\n",
              "      <td>665.6</td>\n",
              "      <td>1.9</td>\n",
              "      <td>21.2</td>\n",
              "      <td>70</td>\n",
              "      <td>6.7</td>\n",
              "      <td>0.0</td>\n",
              "      <td>11.16</td>\n",
              "    </tr>\n",
              "    <tr>\n",
              "      <th>515</th>\n",
              "      <td>1</td>\n",
              "      <td>4</td>\n",
              "      <td>aug</td>\n",
              "      <td>sat</td>\n",
              "      <td>94.4</td>\n",
              "      <td>146.0</td>\n",
              "      <td>614.7</td>\n",
              "      <td>11.3</td>\n",
              "      <td>25.6</td>\n",
              "      <td>42</td>\n",
              "      <td>4.0</td>\n",
              "      <td>0.0</td>\n",
              "      <td>0.00</td>\n",
              "    </tr>\n",
              "    <tr>\n",
              "      <th>516</th>\n",
              "      <td>6</td>\n",
              "      <td>3</td>\n",
              "      <td>nov</td>\n",
              "      <td>tue</td>\n",
              "      <td>79.5</td>\n",
              "      <td>3.0</td>\n",
              "      <td>106.7</td>\n",
              "      <td>1.1</td>\n",
              "      <td>11.8</td>\n",
              "      <td>31</td>\n",
              "      <td>4.5</td>\n",
              "      <td>0.0</td>\n",
              "      <td>0.00</td>\n",
              "    </tr>\n",
              "  </tbody>\n",
              "</table>\n",
              "</div>\n",
              "    <div class=\"colab-df-buttons\">\n",
              "\n",
              "  <div class=\"colab-df-container\">\n",
              "    <button class=\"colab-df-convert\" onclick=\"convertToInteractive('df-f1f15aa8-9bc1-415e-8b62-dfa7e8b4eaa5')\"\n",
              "            title=\"Convert this dataframe to an interactive table.\"\n",
              "            style=\"display:none;\">\n",
              "\n",
              "  <svg xmlns=\"http://www.w3.org/2000/svg\" height=\"24px\" viewBox=\"0 -960 960 960\">\n",
              "    <path d=\"M120-120v-720h720v720H120Zm60-500h600v-160H180v160Zm220 220h160v-160H400v160Zm0 220h160v-160H400v160ZM180-400h160v-160H180v160Zm440 0h160v-160H620v160ZM180-180h160v-160H180v160Zm440 0h160v-160H620v160Z\"/>\n",
              "  </svg>\n",
              "    </button>\n",
              "\n",
              "  <style>\n",
              "    .colab-df-container {\n",
              "      display:flex;\n",
              "      gap: 12px;\n",
              "    }\n",
              "\n",
              "    .colab-df-convert {\n",
              "      background-color: #E8F0FE;\n",
              "      border: none;\n",
              "      border-radius: 50%;\n",
              "      cursor: pointer;\n",
              "      display: none;\n",
              "      fill: #1967D2;\n",
              "      height: 32px;\n",
              "      padding: 0 0 0 0;\n",
              "      width: 32px;\n",
              "    }\n",
              "\n",
              "    .colab-df-convert:hover {\n",
              "      background-color: #E2EBFA;\n",
              "      box-shadow: 0px 1px 2px rgba(60, 64, 67, 0.3), 0px 1px 3px 1px rgba(60, 64, 67, 0.15);\n",
              "      fill: #174EA6;\n",
              "    }\n",
              "\n",
              "    .colab-df-buttons div {\n",
              "      margin-bottom: 4px;\n",
              "    }\n",
              "\n",
              "    [theme=dark] .colab-df-convert {\n",
              "      background-color: #3B4455;\n",
              "      fill: #D2E3FC;\n",
              "    }\n",
              "\n",
              "    [theme=dark] .colab-df-convert:hover {\n",
              "      background-color: #434B5C;\n",
              "      box-shadow: 0px 1px 3px 1px rgba(0, 0, 0, 0.15);\n",
              "      filter: drop-shadow(0px 1px 2px rgba(0, 0, 0, 0.3));\n",
              "      fill: #FFFFFF;\n",
              "    }\n",
              "  </style>\n",
              "\n",
              "    <script>\n",
              "      const buttonEl =\n",
              "        document.querySelector('#df-f1f15aa8-9bc1-415e-8b62-dfa7e8b4eaa5 button.colab-df-convert');\n",
              "      buttonEl.style.display =\n",
              "        google.colab.kernel.accessAllowed ? 'block' : 'none';\n",
              "\n",
              "      async function convertToInteractive(key) {\n",
              "        const element = document.querySelector('#df-f1f15aa8-9bc1-415e-8b62-dfa7e8b4eaa5');\n",
              "        const dataTable =\n",
              "          await google.colab.kernel.invokeFunction('convertToInteractive',\n",
              "                                                    [key], {});\n",
              "        if (!dataTable) return;\n",
              "\n",
              "        const docLinkHtml = 'Like what you see? Visit the ' +\n",
              "          '<a target=\"_blank\" href=https://colab.research.google.com/notebooks/data_table.ipynb>data table notebook</a>'\n",
              "          + ' to learn more about interactive tables.';\n",
              "        element.innerHTML = '';\n",
              "        dataTable['output_type'] = 'display_data';\n",
              "        await google.colab.output.renderOutput(dataTable, element);\n",
              "        const docLink = document.createElement('div');\n",
              "        docLink.innerHTML = docLinkHtml;\n",
              "        element.appendChild(docLink);\n",
              "      }\n",
              "    </script>\n",
              "  </div>\n",
              "\n",
              "\n",
              "<div id=\"df-502fe032-34d9-49f7-9efd-27164667f5b6\">\n",
              "  <button class=\"colab-df-quickchart\" onclick=\"quickchart('df-502fe032-34d9-49f7-9efd-27164667f5b6')\"\n",
              "            title=\"Suggest charts\"\n",
              "            style=\"display:none;\">\n",
              "\n",
              "<svg xmlns=\"http://www.w3.org/2000/svg\" height=\"24px\"viewBox=\"0 0 24 24\"\n",
              "     width=\"24px\">\n",
              "    <g>\n",
              "        <path d=\"M19 3H5c-1.1 0-2 .9-2 2v14c0 1.1.9 2 2 2h14c1.1 0 2-.9 2-2V5c0-1.1-.9-2-2-2zM9 17H7v-7h2v7zm4 0h-2V7h2v10zm4 0h-2v-4h2v4z\"/>\n",
              "    </g>\n",
              "</svg>\n",
              "  </button>\n",
              "\n",
              "<style>\n",
              "  .colab-df-quickchart {\n",
              "      --bg-color: #E8F0FE;\n",
              "      --fill-color: #1967D2;\n",
              "      --hover-bg-color: #E2EBFA;\n",
              "      --hover-fill-color: #174EA6;\n",
              "      --disabled-fill-color: #AAA;\n",
              "      --disabled-bg-color: #DDD;\n",
              "  }\n",
              "\n",
              "  [theme=dark] .colab-df-quickchart {\n",
              "      --bg-color: #3B4455;\n",
              "      --fill-color: #D2E3FC;\n",
              "      --hover-bg-color: #434B5C;\n",
              "      --hover-fill-color: #FFFFFF;\n",
              "      --disabled-bg-color: #3B4455;\n",
              "      --disabled-fill-color: #666;\n",
              "  }\n",
              "\n",
              "  .colab-df-quickchart {\n",
              "    background-color: var(--bg-color);\n",
              "    border: none;\n",
              "    border-radius: 50%;\n",
              "    cursor: pointer;\n",
              "    display: none;\n",
              "    fill: var(--fill-color);\n",
              "    height: 32px;\n",
              "    padding: 0;\n",
              "    width: 32px;\n",
              "  }\n",
              "\n",
              "  .colab-df-quickchart:hover {\n",
              "    background-color: var(--hover-bg-color);\n",
              "    box-shadow: 0 1px 2px rgba(60, 64, 67, 0.3), 0 1px 3px 1px rgba(60, 64, 67, 0.15);\n",
              "    fill: var(--button-hover-fill-color);\n",
              "  }\n",
              "\n",
              "  .colab-df-quickchart-complete:disabled,\n",
              "  .colab-df-quickchart-complete:disabled:hover {\n",
              "    background-color: var(--disabled-bg-color);\n",
              "    fill: var(--disabled-fill-color);\n",
              "    box-shadow: none;\n",
              "  }\n",
              "\n",
              "  .colab-df-spinner {\n",
              "    border: 2px solid var(--fill-color);\n",
              "    border-color: transparent;\n",
              "    border-bottom-color: var(--fill-color);\n",
              "    animation:\n",
              "      spin 1s steps(1) infinite;\n",
              "  }\n",
              "\n",
              "  @keyframes spin {\n",
              "    0% {\n",
              "      border-color: transparent;\n",
              "      border-bottom-color: var(--fill-color);\n",
              "      border-left-color: var(--fill-color);\n",
              "    }\n",
              "    20% {\n",
              "      border-color: transparent;\n",
              "      border-left-color: var(--fill-color);\n",
              "      border-top-color: var(--fill-color);\n",
              "    }\n",
              "    30% {\n",
              "      border-color: transparent;\n",
              "      border-left-color: var(--fill-color);\n",
              "      border-top-color: var(--fill-color);\n",
              "      border-right-color: var(--fill-color);\n",
              "    }\n",
              "    40% {\n",
              "      border-color: transparent;\n",
              "      border-right-color: var(--fill-color);\n",
              "      border-top-color: var(--fill-color);\n",
              "    }\n",
              "    60% {\n",
              "      border-color: transparent;\n",
              "      border-right-color: var(--fill-color);\n",
              "    }\n",
              "    80% {\n",
              "      border-color: transparent;\n",
              "      border-right-color: var(--fill-color);\n",
              "      border-bottom-color: var(--fill-color);\n",
              "    }\n",
              "    90% {\n",
              "      border-color: transparent;\n",
              "      border-bottom-color: var(--fill-color);\n",
              "    }\n",
              "  }\n",
              "</style>\n",
              "\n",
              "  <script>\n",
              "    async function quickchart(key) {\n",
              "      const quickchartButtonEl =\n",
              "        document.querySelector('#' + key + ' button');\n",
              "      quickchartButtonEl.disabled = true;  // To prevent multiple clicks.\n",
              "      quickchartButtonEl.classList.add('colab-df-spinner');\n",
              "      try {\n",
              "        const charts = await google.colab.kernel.invokeFunction(\n",
              "            'suggestCharts', [key], {});\n",
              "      } catch (error) {\n",
              "        console.error('Error during call to suggestCharts:', error);\n",
              "      }\n",
              "      quickchartButtonEl.classList.remove('colab-df-spinner');\n",
              "      quickchartButtonEl.classList.add('colab-df-quickchart-complete');\n",
              "    }\n",
              "    (() => {\n",
              "      let quickchartButtonEl =\n",
              "        document.querySelector('#df-502fe032-34d9-49f7-9efd-27164667f5b6 button');\n",
              "      quickchartButtonEl.style.display =\n",
              "        google.colab.kernel.accessAllowed ? 'block' : 'none';\n",
              "    })();\n",
              "  </script>\n",
              "</div>\n",
              "    </div>\n",
              "  </div>\n"
            ],
            "application/vnd.google.colaboratory.intrinsic+json": {
              "type": "dataframe",
              "summary": "{\n  \"name\": \"df\",\n  \"rows\": 5,\n  \"fields\": [\n    {\n      \"column\": \"X\",\n      \"properties\": {\n        \"dtype\": \"number\",\n        \"std\": 2,\n        \"min\": 1,\n        \"max\": 7,\n        \"num_unique_values\": 5,\n        \"samples\": [\n          2,\n          6,\n          7\n        ],\n        \"semantic_type\": \"\",\n        \"description\": \"\"\n      }\n    },\n    {\n      \"column\": \"Y\",\n      \"properties\": {\n        \"dtype\": \"number\",\n        \"std\": 0,\n        \"min\": 3,\n        \"max\": 4,\n        \"num_unique_values\": 2,\n        \"samples\": [\n          4,\n          3\n        ],\n        \"semantic_type\": \"\",\n        \"description\": \"\"\n      }\n    },\n    {\n      \"column\": \"month\",\n      \"properties\": {\n        \"dtype\": \"category\",\n        \"num_unique_values\": 2,\n        \"samples\": [\n          \"nov\",\n          \"aug\"\n        ],\n        \"semantic_type\": \"\",\n        \"description\": \"\"\n      }\n    },\n    {\n      \"column\": \"day\",\n      \"properties\": {\n        \"dtype\": \"string\",\n        \"num_unique_values\": 3,\n        \"samples\": [\n          \"sun\",\n          \"sat\"\n        ],\n        \"semantic_type\": \"\",\n        \"description\": \"\"\n      }\n    },\n    {\n      \"column\": \"FFMC\",\n      \"properties\": {\n        \"dtype\": \"number\",\n        \"std\": 6.028100861797192,\n        \"min\": 79.5,\n        \"max\": 94.4,\n        \"num_unique_values\": 3,\n        \"samples\": [\n          81.6,\n          94.4\n        ],\n        \"semantic_type\": \"\",\n        \"description\": \"\"\n      }\n    },\n    {\n      \"column\": \"DMC\",\n      \"properties\": {\n        \"dtype\": \"number\",\n        \"std\": 51.48958147042953,\n        \"min\": 3.0,\n        \"max\": 146.0,\n        \"num_unique_values\": 3,\n        \"samples\": [\n          56.7,\n          146.0\n        ],\n        \"semantic_type\": \"\",\n        \"description\": \"\"\n      }\n    },\n    {\n      \"column\": \"DC\",\n      \"properties\": {\n        \"dtype\": \"number\",\n        \"std\": 245.24926707331872,\n        \"min\": 106.7,\n        \"max\": 665.6,\n        \"num_unique_values\": 3,\n        \"samples\": [\n          665.6,\n          614.7\n        ],\n        \"semantic_type\": \"\",\n        \"description\": \"\"\n      }\n    },\n    {\n      \"column\": \"ISI\",\n      \"properties\": {\n        \"dtype\": \"number\",\n        \"std\": 4.307203268943782,\n        \"min\": 1.1,\n        \"max\": 11.3,\n        \"num_unique_values\": 3,\n        \"samples\": [\n          1.9,\n          11.3\n        ],\n        \"semantic_type\": \"\",\n        \"description\": \"\"\n      }\n    },\n    {\n      \"column\": \"temp\",\n      \"properties\": {\n        \"dtype\": \"number\",\n        \"std\": 6.138240790324211,\n        \"min\": 11.8,\n        \"max\": 27.8,\n        \"num_unique_values\": 5,\n        \"samples\": [\n          21.9,\n          11.8\n        ],\n        \"semantic_type\": \"\",\n        \"description\": \"\"\n      }\n    },\n    {\n      \"column\": \"RH\",\n      \"properties\": {\n        \"dtype\": \"number\",\n        \"std\": 19,\n        \"min\": 31,\n        \"max\": 71,\n        \"num_unique_values\": 5,\n        \"samples\": [\n          71,\n          31\n        ],\n        \"semantic_type\": \"\",\n        \"description\": \"\"\n      }\n    },\n    {\n      \"column\": \"wind\",\n      \"properties\": {\n        \"dtype\": \"number\",\n        \"std\": 1.5598076804529462,\n        \"min\": 2.7,\n        \"max\": 6.7,\n        \"num_unique_values\": 5,\n        \"samples\": [\n          5.8,\n          4.5\n        ],\n        \"semantic_type\": \"\",\n        \"description\": \"\"\n      }\n    },\n    {\n      \"column\": \"rain\",\n      \"properties\": {\n        \"dtype\": \"number\",\n        \"std\": 0.0,\n        \"min\": 0.0,\n        \"max\": 0.0,\n        \"num_unique_values\": 1,\n        \"samples\": [\n          0.0\n        ],\n        \"semantic_type\": \"\",\n        \"description\": \"\"\n      }\n    },\n    {\n      \"column\": \"area\",\n      \"properties\": {\n        \"dtype\": \"number\",\n        \"std\": 22.80235119455886,\n        \"min\": 0.0,\n        \"max\": 54.29,\n        \"num_unique_values\": 4,\n        \"samples\": [\n          54.29\n        ],\n        \"semantic_type\": \"\",\n        \"description\": \"\"\n      }\n    }\n  ]\n}"
            }
          },
          "metadata": {},
          "execution_count": 39
        }
      ]
    },
    {
      "cell_type": "markdown",
      "source": [
        "Cek Informasi Dataset"
      ],
      "metadata": {
        "id": "757INHeF-SzP"
      }
    },
    {
      "cell_type": "markdown",
      "source": [
        "* X - x-axis spatial coordinate within the Montesinho park map: 1 to 9\n",
        "* Y - y-axis spatial coordinate within the Montesinho park map: 2 to 9\n",
        "* month - month of the year: 'jan' to 'dec'\n",
        "* day - day of the week: 'mon' to 'sun'\n",
        "* FFMC - FFMC index from the FWI system: 18.7 to 96.20\n",
        "* DMC - DMC index from the FWI system: 1.1 to 291.3\n",
        "* DC - DC index from the FWI system: 7.9 to 860.6\n",
        "* ISI - ISI index from the FWI system: 0.0 to 56.10\n",
        "* temp - temperature in Celsius degrees: 2.2 to 33.30\n",
        "* RH - relative humidity in %: 15.0 to 100\n",
        "* wind - wind speed in km/h: 0.40 to 9.40\n",
        "* rain - outside rain in mm/m2 : 0.0 to 6.4\n",
        "* area - the burned area of the forest (in ha): 0.00 to 1090.84 (this output variable is very skewed towards 0.0, thus it may make sense to model with the logarithm transform)."
      ],
      "metadata": {
        "id": "d4yeK2kH-SzS"
      }
    },
    {
      "cell_type": "code",
      "source": [
        "df.info()"
      ],
      "metadata": {
        "execution": {
          "iopub.status.busy": "2023-01-07T07:07:17.33007Z",
          "iopub.execute_input": "2023-01-07T07:07:17.330397Z",
          "iopub.status.idle": "2023-01-07T07:07:17.350856Z",
          "shell.execute_reply.started": "2023-01-07T07:07:17.330368Z",
          "shell.execute_reply": "2023-01-07T07:07:17.349774Z"
        },
        "trusted": true,
        "colab": {
          "base_uri": "https://localhost:8080/"
        },
        "id": "ariw5qzu-SzS",
        "outputId": "f03c5e49-e347-4868-9e08-ed8c241c0ef8"
      },
      "execution_count": null,
      "outputs": [
        {
          "output_type": "stream",
          "name": "stdout",
          "text": [
            "<class 'pandas.core.frame.DataFrame'>\n",
            "RangeIndex: 517 entries, 0 to 516\n",
            "Data columns (total 13 columns):\n",
            " #   Column  Non-Null Count  Dtype  \n",
            "---  ------  --------------  -----  \n",
            " 0   X       517 non-null    int64  \n",
            " 1   Y       517 non-null    int64  \n",
            " 2   month   517 non-null    object \n",
            " 3   day     517 non-null    object \n",
            " 4   FFMC    517 non-null    float64\n",
            " 5   DMC     517 non-null    float64\n",
            " 6   DC      517 non-null    float64\n",
            " 7   ISI     517 non-null    float64\n",
            " 8   temp    517 non-null    float64\n",
            " 9   RH      517 non-null    int64  \n",
            " 10  wind    517 non-null    float64\n",
            " 11  rain    517 non-null    float64\n",
            " 12  area    517 non-null    float64\n",
            "dtypes: float64(8), int64(3), object(2)\n",
            "memory usage: 52.6+ KB\n"
          ]
        }
      ]
    },
    {
      "cell_type": "markdown",
      "source": [
        "Data di atas tidak ada memuat missing data"
      ],
      "metadata": {
        "id": "nc3Wg079-SzS"
      }
    },
    {
      "cell_type": "code",
      "source": [
        "df.describe()"
      ],
      "metadata": {
        "execution": {
          "iopub.status.busy": "2023-01-07T07:07:17.352129Z",
          "iopub.execute_input": "2023-01-07T07:07:17.352424Z",
          "iopub.status.idle": "2023-01-07T07:07:17.397732Z",
          "shell.execute_reply.started": "2023-01-07T07:07:17.352397Z",
          "shell.execute_reply": "2023-01-07T07:07:17.396518Z"
        },
        "trusted": true,
        "colab": {
          "base_uri": "https://localhost:8080/",
          "height": 300
        },
        "id": "RDIraqFV-SzS",
        "outputId": "e228a7b9-1480-4601-ac71-3fc00f0f3980"
      },
      "execution_count": null,
      "outputs": [
        {
          "output_type": "execute_result",
          "data": {
            "text/plain": [
              "                X           Y        FFMC         DMC          DC         ISI  \\\n",
              "count  517.000000  517.000000  517.000000  517.000000  517.000000  517.000000   \n",
              "mean     4.669246    4.299807   90.644681  110.872340  547.940039    9.021663   \n",
              "std      2.313778    1.229900    5.520111   64.046482  248.066192    4.559477   \n",
              "min      1.000000    2.000000   18.700000    1.100000    7.900000    0.000000   \n",
              "25%      3.000000    4.000000   90.200000   68.600000  437.700000    6.500000   \n",
              "50%      4.000000    4.000000   91.600000  108.300000  664.200000    8.400000   \n",
              "75%      7.000000    5.000000   92.900000  142.400000  713.900000   10.800000   \n",
              "max      9.000000    9.000000   96.200000  291.300000  860.600000   56.100000   \n",
              "\n",
              "             temp          RH        wind        rain         area  \n",
              "count  517.000000  517.000000  517.000000  517.000000   517.000000  \n",
              "mean    18.889168   44.288201    4.017602    0.021663    12.847292  \n",
              "std      5.806625   16.317469    1.791653    0.295959    63.655818  \n",
              "min      2.200000   15.000000    0.400000    0.000000     0.000000  \n",
              "25%     15.500000   33.000000    2.700000    0.000000     0.000000  \n",
              "50%     19.300000   42.000000    4.000000    0.000000     0.520000  \n",
              "75%     22.800000   53.000000    4.900000    0.000000     6.570000  \n",
              "max     33.300000  100.000000    9.400000    6.400000  1090.840000  "
            ],
            "text/html": [
              "\n",
              "  <div id=\"df-95273697-1cfa-4917-a83d-e58bdd714388\" class=\"colab-df-container\">\n",
              "    <div>\n",
              "<style scoped>\n",
              "    .dataframe tbody tr th:only-of-type {\n",
              "        vertical-align: middle;\n",
              "    }\n",
              "\n",
              "    .dataframe tbody tr th {\n",
              "        vertical-align: top;\n",
              "    }\n",
              "\n",
              "    .dataframe thead th {\n",
              "        text-align: right;\n",
              "    }\n",
              "</style>\n",
              "<table border=\"1\" class=\"dataframe\">\n",
              "  <thead>\n",
              "    <tr style=\"text-align: right;\">\n",
              "      <th></th>\n",
              "      <th>X</th>\n",
              "      <th>Y</th>\n",
              "      <th>FFMC</th>\n",
              "      <th>DMC</th>\n",
              "      <th>DC</th>\n",
              "      <th>ISI</th>\n",
              "      <th>temp</th>\n",
              "      <th>RH</th>\n",
              "      <th>wind</th>\n",
              "      <th>rain</th>\n",
              "      <th>area</th>\n",
              "    </tr>\n",
              "  </thead>\n",
              "  <tbody>\n",
              "    <tr>\n",
              "      <th>count</th>\n",
              "      <td>517.000000</td>\n",
              "      <td>517.000000</td>\n",
              "      <td>517.000000</td>\n",
              "      <td>517.000000</td>\n",
              "      <td>517.000000</td>\n",
              "      <td>517.000000</td>\n",
              "      <td>517.000000</td>\n",
              "      <td>517.000000</td>\n",
              "      <td>517.000000</td>\n",
              "      <td>517.000000</td>\n",
              "      <td>517.000000</td>\n",
              "    </tr>\n",
              "    <tr>\n",
              "      <th>mean</th>\n",
              "      <td>4.669246</td>\n",
              "      <td>4.299807</td>\n",
              "      <td>90.644681</td>\n",
              "      <td>110.872340</td>\n",
              "      <td>547.940039</td>\n",
              "      <td>9.021663</td>\n",
              "      <td>18.889168</td>\n",
              "      <td>44.288201</td>\n",
              "      <td>4.017602</td>\n",
              "      <td>0.021663</td>\n",
              "      <td>12.847292</td>\n",
              "    </tr>\n",
              "    <tr>\n",
              "      <th>std</th>\n",
              "      <td>2.313778</td>\n",
              "      <td>1.229900</td>\n",
              "      <td>5.520111</td>\n",
              "      <td>64.046482</td>\n",
              "      <td>248.066192</td>\n",
              "      <td>4.559477</td>\n",
              "      <td>5.806625</td>\n",
              "      <td>16.317469</td>\n",
              "      <td>1.791653</td>\n",
              "      <td>0.295959</td>\n",
              "      <td>63.655818</td>\n",
              "    </tr>\n",
              "    <tr>\n",
              "      <th>min</th>\n",
              "      <td>1.000000</td>\n",
              "      <td>2.000000</td>\n",
              "      <td>18.700000</td>\n",
              "      <td>1.100000</td>\n",
              "      <td>7.900000</td>\n",
              "      <td>0.000000</td>\n",
              "      <td>2.200000</td>\n",
              "      <td>15.000000</td>\n",
              "      <td>0.400000</td>\n",
              "      <td>0.000000</td>\n",
              "      <td>0.000000</td>\n",
              "    </tr>\n",
              "    <tr>\n",
              "      <th>25%</th>\n",
              "      <td>3.000000</td>\n",
              "      <td>4.000000</td>\n",
              "      <td>90.200000</td>\n",
              "      <td>68.600000</td>\n",
              "      <td>437.700000</td>\n",
              "      <td>6.500000</td>\n",
              "      <td>15.500000</td>\n",
              "      <td>33.000000</td>\n",
              "      <td>2.700000</td>\n",
              "      <td>0.000000</td>\n",
              "      <td>0.000000</td>\n",
              "    </tr>\n",
              "    <tr>\n",
              "      <th>50%</th>\n",
              "      <td>4.000000</td>\n",
              "      <td>4.000000</td>\n",
              "      <td>91.600000</td>\n",
              "      <td>108.300000</td>\n",
              "      <td>664.200000</td>\n",
              "      <td>8.400000</td>\n",
              "      <td>19.300000</td>\n",
              "      <td>42.000000</td>\n",
              "      <td>4.000000</td>\n",
              "      <td>0.000000</td>\n",
              "      <td>0.520000</td>\n",
              "    </tr>\n",
              "    <tr>\n",
              "      <th>75%</th>\n",
              "      <td>7.000000</td>\n",
              "      <td>5.000000</td>\n",
              "      <td>92.900000</td>\n",
              "      <td>142.400000</td>\n",
              "      <td>713.900000</td>\n",
              "      <td>10.800000</td>\n",
              "      <td>22.800000</td>\n",
              "      <td>53.000000</td>\n",
              "      <td>4.900000</td>\n",
              "      <td>0.000000</td>\n",
              "      <td>6.570000</td>\n",
              "    </tr>\n",
              "    <tr>\n",
              "      <th>max</th>\n",
              "      <td>9.000000</td>\n",
              "      <td>9.000000</td>\n",
              "      <td>96.200000</td>\n",
              "      <td>291.300000</td>\n",
              "      <td>860.600000</td>\n",
              "      <td>56.100000</td>\n",
              "      <td>33.300000</td>\n",
              "      <td>100.000000</td>\n",
              "      <td>9.400000</td>\n",
              "      <td>6.400000</td>\n",
              "      <td>1090.840000</td>\n",
              "    </tr>\n",
              "  </tbody>\n",
              "</table>\n",
              "</div>\n",
              "    <div class=\"colab-df-buttons\">\n",
              "\n",
              "  <div class=\"colab-df-container\">\n",
              "    <button class=\"colab-df-convert\" onclick=\"convertToInteractive('df-95273697-1cfa-4917-a83d-e58bdd714388')\"\n",
              "            title=\"Convert this dataframe to an interactive table.\"\n",
              "            style=\"display:none;\">\n",
              "\n",
              "  <svg xmlns=\"http://www.w3.org/2000/svg\" height=\"24px\" viewBox=\"0 -960 960 960\">\n",
              "    <path d=\"M120-120v-720h720v720H120Zm60-500h600v-160H180v160Zm220 220h160v-160H400v160Zm0 220h160v-160H400v160ZM180-400h160v-160H180v160Zm440 0h160v-160H620v160ZM180-180h160v-160H180v160Zm440 0h160v-160H620v160Z\"/>\n",
              "  </svg>\n",
              "    </button>\n",
              "\n",
              "  <style>\n",
              "    .colab-df-container {\n",
              "      display:flex;\n",
              "      gap: 12px;\n",
              "    }\n",
              "\n",
              "    .colab-df-convert {\n",
              "      background-color: #E8F0FE;\n",
              "      border: none;\n",
              "      border-radius: 50%;\n",
              "      cursor: pointer;\n",
              "      display: none;\n",
              "      fill: #1967D2;\n",
              "      height: 32px;\n",
              "      padding: 0 0 0 0;\n",
              "      width: 32px;\n",
              "    }\n",
              "\n",
              "    .colab-df-convert:hover {\n",
              "      background-color: #E2EBFA;\n",
              "      box-shadow: 0px 1px 2px rgba(60, 64, 67, 0.3), 0px 1px 3px 1px rgba(60, 64, 67, 0.15);\n",
              "      fill: #174EA6;\n",
              "    }\n",
              "\n",
              "    .colab-df-buttons div {\n",
              "      margin-bottom: 4px;\n",
              "    }\n",
              "\n",
              "    [theme=dark] .colab-df-convert {\n",
              "      background-color: #3B4455;\n",
              "      fill: #D2E3FC;\n",
              "    }\n",
              "\n",
              "    [theme=dark] .colab-df-convert:hover {\n",
              "      background-color: #434B5C;\n",
              "      box-shadow: 0px 1px 3px 1px rgba(0, 0, 0, 0.15);\n",
              "      filter: drop-shadow(0px 1px 2px rgba(0, 0, 0, 0.3));\n",
              "      fill: #FFFFFF;\n",
              "    }\n",
              "  </style>\n",
              "\n",
              "    <script>\n",
              "      const buttonEl =\n",
              "        document.querySelector('#df-95273697-1cfa-4917-a83d-e58bdd714388 button.colab-df-convert');\n",
              "      buttonEl.style.display =\n",
              "        google.colab.kernel.accessAllowed ? 'block' : 'none';\n",
              "\n",
              "      async function convertToInteractive(key) {\n",
              "        const element = document.querySelector('#df-95273697-1cfa-4917-a83d-e58bdd714388');\n",
              "        const dataTable =\n",
              "          await google.colab.kernel.invokeFunction('convertToInteractive',\n",
              "                                                    [key], {});\n",
              "        if (!dataTable) return;\n",
              "\n",
              "        const docLinkHtml = 'Like what you see? Visit the ' +\n",
              "          '<a target=\"_blank\" href=https://colab.research.google.com/notebooks/data_table.ipynb>data table notebook</a>'\n",
              "          + ' to learn more about interactive tables.';\n",
              "        element.innerHTML = '';\n",
              "        dataTable['output_type'] = 'display_data';\n",
              "        await google.colab.output.renderOutput(dataTable, element);\n",
              "        const docLink = document.createElement('div');\n",
              "        docLink.innerHTML = docLinkHtml;\n",
              "        element.appendChild(docLink);\n",
              "      }\n",
              "    </script>\n",
              "  </div>\n",
              "\n",
              "\n",
              "<div id=\"df-2e82f576-1b35-43f4-8447-4455e14c1eaf\">\n",
              "  <button class=\"colab-df-quickchart\" onclick=\"quickchart('df-2e82f576-1b35-43f4-8447-4455e14c1eaf')\"\n",
              "            title=\"Suggest charts\"\n",
              "            style=\"display:none;\">\n",
              "\n",
              "<svg xmlns=\"http://www.w3.org/2000/svg\" height=\"24px\"viewBox=\"0 0 24 24\"\n",
              "     width=\"24px\">\n",
              "    <g>\n",
              "        <path d=\"M19 3H5c-1.1 0-2 .9-2 2v14c0 1.1.9 2 2 2h14c1.1 0 2-.9 2-2V5c0-1.1-.9-2-2-2zM9 17H7v-7h2v7zm4 0h-2V7h2v10zm4 0h-2v-4h2v4z\"/>\n",
              "    </g>\n",
              "</svg>\n",
              "  </button>\n",
              "\n",
              "<style>\n",
              "  .colab-df-quickchart {\n",
              "      --bg-color: #E8F0FE;\n",
              "      --fill-color: #1967D2;\n",
              "      --hover-bg-color: #E2EBFA;\n",
              "      --hover-fill-color: #174EA6;\n",
              "      --disabled-fill-color: #AAA;\n",
              "      --disabled-bg-color: #DDD;\n",
              "  }\n",
              "\n",
              "  [theme=dark] .colab-df-quickchart {\n",
              "      --bg-color: #3B4455;\n",
              "      --fill-color: #D2E3FC;\n",
              "      --hover-bg-color: #434B5C;\n",
              "      --hover-fill-color: #FFFFFF;\n",
              "      --disabled-bg-color: #3B4455;\n",
              "      --disabled-fill-color: #666;\n",
              "  }\n",
              "\n",
              "  .colab-df-quickchart {\n",
              "    background-color: var(--bg-color);\n",
              "    border: none;\n",
              "    border-radius: 50%;\n",
              "    cursor: pointer;\n",
              "    display: none;\n",
              "    fill: var(--fill-color);\n",
              "    height: 32px;\n",
              "    padding: 0;\n",
              "    width: 32px;\n",
              "  }\n",
              "\n",
              "  .colab-df-quickchart:hover {\n",
              "    background-color: var(--hover-bg-color);\n",
              "    box-shadow: 0 1px 2px rgba(60, 64, 67, 0.3), 0 1px 3px 1px rgba(60, 64, 67, 0.15);\n",
              "    fill: var(--button-hover-fill-color);\n",
              "  }\n",
              "\n",
              "  .colab-df-quickchart-complete:disabled,\n",
              "  .colab-df-quickchart-complete:disabled:hover {\n",
              "    background-color: var(--disabled-bg-color);\n",
              "    fill: var(--disabled-fill-color);\n",
              "    box-shadow: none;\n",
              "  }\n",
              "\n",
              "  .colab-df-spinner {\n",
              "    border: 2px solid var(--fill-color);\n",
              "    border-color: transparent;\n",
              "    border-bottom-color: var(--fill-color);\n",
              "    animation:\n",
              "      spin 1s steps(1) infinite;\n",
              "  }\n",
              "\n",
              "  @keyframes spin {\n",
              "    0% {\n",
              "      border-color: transparent;\n",
              "      border-bottom-color: var(--fill-color);\n",
              "      border-left-color: var(--fill-color);\n",
              "    }\n",
              "    20% {\n",
              "      border-color: transparent;\n",
              "      border-left-color: var(--fill-color);\n",
              "      border-top-color: var(--fill-color);\n",
              "    }\n",
              "    30% {\n",
              "      border-color: transparent;\n",
              "      border-left-color: var(--fill-color);\n",
              "      border-top-color: var(--fill-color);\n",
              "      border-right-color: var(--fill-color);\n",
              "    }\n",
              "    40% {\n",
              "      border-color: transparent;\n",
              "      border-right-color: var(--fill-color);\n",
              "      border-top-color: var(--fill-color);\n",
              "    }\n",
              "    60% {\n",
              "      border-color: transparent;\n",
              "      border-right-color: var(--fill-color);\n",
              "    }\n",
              "    80% {\n",
              "      border-color: transparent;\n",
              "      border-right-color: var(--fill-color);\n",
              "      border-bottom-color: var(--fill-color);\n",
              "    }\n",
              "    90% {\n",
              "      border-color: transparent;\n",
              "      border-bottom-color: var(--fill-color);\n",
              "    }\n",
              "  }\n",
              "</style>\n",
              "\n",
              "  <script>\n",
              "    async function quickchart(key) {\n",
              "      const quickchartButtonEl =\n",
              "        document.querySelector('#' + key + ' button');\n",
              "      quickchartButtonEl.disabled = true;  // To prevent multiple clicks.\n",
              "      quickchartButtonEl.classList.add('colab-df-spinner');\n",
              "      try {\n",
              "        const charts = await google.colab.kernel.invokeFunction(\n",
              "            'suggestCharts', [key], {});\n",
              "      } catch (error) {\n",
              "        console.error('Error during call to suggestCharts:', error);\n",
              "      }\n",
              "      quickchartButtonEl.classList.remove('colab-df-spinner');\n",
              "      quickchartButtonEl.classList.add('colab-df-quickchart-complete');\n",
              "    }\n",
              "    (() => {\n",
              "      let quickchartButtonEl =\n",
              "        document.querySelector('#df-2e82f576-1b35-43f4-8447-4455e14c1eaf button');\n",
              "      quickchartButtonEl.style.display =\n",
              "        google.colab.kernel.accessAllowed ? 'block' : 'none';\n",
              "    })();\n",
              "  </script>\n",
              "</div>\n",
              "    </div>\n",
              "  </div>\n"
            ],
            "application/vnd.google.colaboratory.intrinsic+json": {
              "type": "dataframe",
              "summary": "{\n  \"name\": \"df\",\n  \"rows\": 8,\n  \"fields\": [\n    {\n      \"column\": \"X\",\n      \"properties\": {\n        \"dtype\": \"number\",\n        \"std\": 181.2403617813448,\n        \"min\": 1.0,\n        \"max\": 517.0,\n        \"num_unique_values\": 8,\n        \"samples\": [\n          4.669245647969052,\n          4.0,\n          517.0\n        ],\n        \"semantic_type\": \"\",\n        \"description\": \"\"\n      }\n    },\n    {\n      \"column\": \"Y\",\n      \"properties\": {\n        \"dtype\": \"number\",\n        \"std\": 181.310373556831,\n        \"min\": 1.2299004029898097,\n        \"max\": 517.0,\n        \"num_unique_values\": 7,\n        \"samples\": [\n          517.0,\n          4.299806576402321,\n          5.0\n        ],\n        \"semantic_type\": \"\",\n        \"description\": \"\"\n      }\n    },\n    {\n      \"column\": \"FFMC\",\n      \"properties\": {\n        \"dtype\": \"number\",\n        \"std\": 162.39498424531516,\n        \"min\": 5.520110848851269,\n        \"max\": 517.0,\n        \"num_unique_values\": 8,\n        \"samples\": [\n          90.64468085106384,\n          91.6,\n          517.0\n        ],\n        \"semantic_type\": \"\",\n        \"description\": \"\"\n      }\n    },\n    {\n      \"column\": \"DMC\",\n      \"properties\": {\n        \"dtype\": \"number\",\n        \"std\": 165.97133289729783,\n        \"min\": 1.1,\n        \"max\": 517.0,\n        \"num_unique_values\": 8,\n        \"samples\": [\n          110.87234042553192,\n          108.3,\n          517.0\n        ],\n        \"semantic_type\": \"\",\n        \"description\": \"\"\n      }\n    },\n    {\n      \"column\": \"DC\",\n      \"properties\": {\n        \"dtype\": \"number\",\n        \"std\": 271.2004777759568,\n        \"min\": 7.9,\n        \"max\": 860.6,\n        \"num_unique_values\": 8,\n        \"samples\": [\n          547.9400386847195,\n          664.2,\n          517.0\n        ],\n        \"semantic_type\": \"\",\n        \"description\": \"\"\n      }\n    },\n    {\n      \"column\": \"ISI\",\n      \"properties\": {\n        \"dtype\": \"number\",\n        \"std\": 178.8421117595429,\n        \"min\": 0.0,\n        \"max\": 517.0,\n        \"num_unique_values\": 8,\n        \"samples\": [\n          9.021663442940039,\n          8.4,\n          517.0\n        ],\n        \"semantic_type\": \"\",\n        \"description\": \"\"\n      }\n    },\n    {\n      \"column\": \"temp\",\n      \"properties\": {\n        \"dtype\": \"number\",\n        \"std\": 177.10171214999315,\n        \"min\": 2.2,\n        \"max\": 517.0,\n        \"num_unique_values\": 8,\n        \"samples\": [\n          18.88916827852998,\n          19.3,\n          517.0\n        ],\n        \"semantic_type\": \"\",\n        \"description\": \"\"\n      }\n    },\n    {\n      \"column\": \"RH\",\n      \"properties\": {\n        \"dtype\": \"number\",\n        \"std\": 169.5496119041149,\n        \"min\": 15.0,\n        \"max\": 517.0,\n        \"num_unique_values\": 8,\n        \"samples\": [\n          44.28820116054158,\n          42.0,\n          517.0\n        ],\n        \"semantic_type\": \"\",\n        \"description\": \"\"\n      }\n    },\n    {\n      \"column\": \"wind\",\n      \"properties\": {\n        \"dtype\": \"number\",\n        \"std\": 181.432280599067,\n        \"min\": 0.4,\n        \"max\": 517.0,\n        \"num_unique_values\": 8,\n        \"samples\": [\n          4.017601547388782,\n          4.0,\n          517.0\n        ],\n        \"semantic_type\": \"\",\n        \"description\": \"\"\n      }\n    },\n    {\n      \"column\": \"rain\",\n      \"properties\": {\n        \"dtype\": \"number\",\n        \"std\": 182.46135776342857,\n        \"min\": 0.0,\n        \"max\": 517.0,\n        \"num_unique_values\": 5,\n        \"samples\": [\n          0.021663442940038684,\n          6.4,\n          0.295959120890894\n        ],\n        \"semantic_type\": \"\",\n        \"description\": \"\"\n      }\n    },\n    {\n      \"column\": \"area\",\n      \"properties\": {\n        \"dtype\": \"number\",\n        \"std\": 397.10797580048217,\n        \"min\": 0.0,\n        \"max\": 1090.84,\n        \"num_unique_values\": 7,\n        \"samples\": [\n          517.0,\n          12.847292069632493,\n          6.57\n        ],\n        \"semantic_type\": \"\",\n        \"description\": \"\"\n      }\n    }\n  ]\n}"
            }
          },
          "metadata": {},
          "execution_count": 41
        }
      ]
    },
    {
      "cell_type": "markdown",
      "source": [
        "# Exploratory Data Analysis"
      ],
      "metadata": {
        "id": "7tWHs_Zg-SzT"
      }
    },
    {
      "cell_type": "code",
      "source": [
        "import matplotlib.pyplot as plt\n",
        "import seaborn as sb"
      ],
      "metadata": {
        "execution": {
          "iopub.status.busy": "2023-01-07T07:07:17.399379Z",
          "iopub.execute_input": "2023-01-07T07:07:17.39988Z",
          "iopub.status.idle": "2023-01-07T07:07:17.928248Z",
          "shell.execute_reply.started": "2023-01-07T07:07:17.399843Z",
          "shell.execute_reply": "2023-01-07T07:07:17.926996Z"
        },
        "trusted": true,
        "id": "uhoKk8k_-SzT"
      },
      "execution_count": null,
      "outputs": []
    },
    {
      "cell_type": "code",
      "source": [
        "sb.lineplot(x='temp', y='RH', data=df)\n",
        "plt.show()"
      ],
      "metadata": {
        "execution": {
          "iopub.status.busy": "2023-01-07T07:07:17.929972Z",
          "iopub.execute_input": "2023-01-07T07:07:17.931011Z",
          "iopub.status.idle": "2023-01-07T07:07:20.869172Z",
          "shell.execute_reply.started": "2023-01-07T07:07:17.930964Z",
          "shell.execute_reply": "2023-01-07T07:07:20.867967Z"
        },
        "trusted": true,
        "colab": {
          "base_uri": "https://localhost:8080/",
          "height": 449
        },
        "id": "2ocn_atD-SzT",
        "outputId": "a044211a-ab7c-412d-9568-1771a450980d"
      },
      "execution_count": null,
      "outputs": [
        {
          "output_type": "display_data",
          "data": {
            "text/plain": [
              "<Figure size 640x480 with 1 Axes>"
            ],
            "image/png": "[encoded data removed]"
          },
          "metadata": {}
        }
      ]
    },
    {
      "cell_type": "code",
      "source": [
        "sb.regplot(x='wind', y='temp', data=df)\n",
        "plt.show()"
      ],
      "metadata": {
        "execution": {
          "iopub.status.busy": "2023-01-07T07:07:20.870706Z",
          "iopub.execute_input": "2023-01-07T07:07:20.871093Z",
          "iopub.status.idle": "2023-01-07T07:07:21.210397Z",
          "shell.execute_reply.started": "2023-01-07T07:07:20.871058Z",
          "shell.execute_reply": "2023-01-07T07:07:21.209183Z"
        },
        "trusted": true,
        "colab": {
          "base_uri": "https://localhost:8080/",
          "height": 449
        },
        "id": "kcsPXi4q-SzT",
        "outputId": "eda80066-c9ab-4f26-bb64-2df398900ab8"
      },
      "execution_count": null,
      "outputs": [
        {
          "output_type": "display_data",
          "data": {
            "text/plain": [
              "<Figure size 640x480 with 1 Axes>"
            ],
            "image/png": "[encoded data removed]"
          },
          "metadata": {}
        }
      ]
    },
    {
      "cell_type": "code",
      "source": [
        "sb.lineplot(x='temp', y='wind', data=df)\n",
        "plt.show()"
      ],
      "metadata": {
        "execution": {
          "iopub.status.busy": "2023-01-07T07:07:21.21176Z",
          "iopub.execute_input": "2023-01-07T07:07:21.212429Z",
          "iopub.status.idle": "2023-01-07T07:07:24.063585Z",
          "shell.execute_reply.started": "2023-01-07T07:07:21.212394Z",
          "shell.execute_reply": "2023-01-07T07:07:24.06244Z"
        },
        "trusted": true,
        "colab": {
          "base_uri": "https://localhost:8080/",
          "height": 449
        },
        "id": "4MZexh41-SzT",
        "outputId": "12d0d178-48c4-4746-93ba-ad7d36f67101"
      },
      "execution_count": null,
      "outputs": [
        {
          "output_type": "display_data",
          "data": {
            "text/plain": [
              "<Figure size 640x480 with 1 Axes>"
            ],
            "image/png": "[encoded data removed]"
          },
          "metadata": {}
        }
      ]
    },
    {
      "cell_type": "code",
      "source": [
        "sb.lineplot(x='temp', y='rain', data=df)\n",
        "plt.show()"
      ],
      "metadata": {
        "execution": {
          "iopub.status.busy": "2023-01-07T07:07:24.064805Z",
          "iopub.execute_input": "2023-01-07T07:07:24.065136Z",
          "iopub.status.idle": "2023-01-07T07:07:26.932713Z",
          "shell.execute_reply.started": "2023-01-07T07:07:24.065107Z",
          "shell.execute_reply": "2023-01-07T07:07:26.931483Z"
        },
        "trusted": true,
        "colab": {
          "base_uri": "https://localhost:8080/",
          "height": 449
        },
        "id": "XIqAfkB6-SzU",
        "outputId": "f32816fd-c7f8-40e1-a3fa-1b888b342435"
      },
      "execution_count": null,
      "outputs": [
        {
          "output_type": "display_data",
          "data": {
            "text/plain": [
              "<Figure size 640x480 with 1 Axes>"
            ],
            "image/png": "[encoded data removed]"
          },
          "metadata": {}
        }
      ]
    },
    {
      "cell_type": "code",
      "source": [
        "sb.regplot(x='temp', y='rain', data=df)\n",
        "plt.show()"
      ],
      "metadata": {
        "execution": {
          "iopub.status.busy": "2023-01-07T07:07:26.934245Z",
          "iopub.execute_input": "2023-01-07T07:07:26.935292Z",
          "iopub.status.idle": "2023-01-07T07:07:27.269421Z",
          "shell.execute_reply.started": "2023-01-07T07:07:26.935256Z",
          "shell.execute_reply": "2023-01-07T07:07:27.268195Z"
        },
        "trusted": true,
        "colab": {
          "base_uri": "https://localhost:8080/",
          "height": 449
        },
        "id": "lTxsodl3-SzU",
        "outputId": "d8329dd7-47d7-4bbf-fbda-9c5a21361805"
      },
      "execution_count": null,
      "outputs": [
        {
          "output_type": "display_data",
          "data": {
            "text/plain": [
              "<Figure size 640x480 with 1 Axes>"
            ],
            "image/png": "[encoded data removed]"
          },
          "metadata": {}
        }
      ]
    },
    {
      "cell_type": "markdown",
      "source": [
        "# Data Preprocessing"
      ],
      "metadata": {
        "id": "dvMZA7J5-SzU"
      }
    },
    {
      "cell_type": "markdown",
      "source": [
        "Hapus data yang berjenis kategorial atau bukan data numerik yaitu bulan dan hari"
      ],
      "metadata": {
        "id": "bogr-oig-SzU"
      }
    },
    {
      "cell_type": "code",
      "source": [
        "df.drop(columns=['month','day'], inplace=True)"
      ],
      "metadata": {
        "execution": {
          "iopub.status.busy": "2023-01-07T07:07:27.272689Z",
          "iopub.execute_input": "2023-01-07T07:07:27.273105Z",
          "iopub.status.idle": "2023-01-07T07:07:27.279578Z",
          "shell.execute_reply.started": "2023-01-07T07:07:27.273071Z",
          "shell.execute_reply": "2023-01-07T07:07:27.27834Z"
        },
        "trusted": true,
        "id": "G9bf1xO0-SzU"
      },
      "execution_count": null,
      "outputs": []
    },
    {
      "cell_type": "code",
      "source": [
        "df.head()"
      ],
      "metadata": {
        "execution": {
          "iopub.status.busy": "2023-01-07T07:07:27.281156Z",
          "iopub.execute_input": "2023-01-07T07:07:27.28237Z",
          "iopub.status.idle": "2023-01-07T07:07:27.305383Z",
          "shell.execute_reply.started": "2023-01-07T07:07:27.282321Z",
          "shell.execute_reply": "2023-01-07T07:07:27.304099Z"
        },
        "trusted": true,
        "colab": {
          "base_uri": "https://localhost:8080/",
          "height": 206
        },
        "id": "c4oVgAIW-SzU",
        "outputId": "68790aba-ea4b-4afa-ad28-ddbed0d3581a"
      },
      "execution_count": null,
      "outputs": [
        {
          "output_type": "execute_result",
          "data": {
            "text/plain": [
              "   X  Y  FFMC   DMC     DC  ISI  temp  RH  wind  rain  area\n",
              "0  7  5  86.2  26.2   94.3  5.1   8.2  51   6.7   0.0   0.0\n",
              "1  7  4  90.6  35.4  669.1  6.7  18.0  33   0.9   0.0   0.0\n",
              "2  7  4  90.6  43.7  686.9  6.7  14.6  33   1.3   0.0   0.0\n",
              "3  8  6  91.7  33.3   77.5  9.0   8.3  97   4.0   0.2   0.0\n",
              "4  8  6  89.3  51.3  102.2  9.6  11.4  99   1.8   0.0   0.0"
            ],
            "text/html": [
              "\n",
              "  <div id=\"df-5f76f9dc-06ae-40d9-bb9b-dcea275081fe\" class=\"colab-df-container\">\n",
              "    <div>\n",
              "<style scoped>\n",
              "    .dataframe tbody tr th:only-of-type {\n",
              "        vertical-align: middle;\n",
              "    }\n",
              "\n",
              "    .dataframe tbody tr th {\n",
              "        vertical-align: top;\n",
              "    }\n",
              "\n",
              "    .dataframe thead th {\n",
              "        text-align: right;\n",
              "    }\n",
              "</style>\n",
              "<table border=\"1\" class=\"dataframe\">\n",
              "  <thead>\n",
              "    <tr style=\"text-align: right;\">\n",
              "      <th></th>\n",
              "      <th>X</th>\n",
              "      <th>Y</th>\n",
              "      <th>FFMC</th>\n",
              "      <th>DMC</th>\n",
              "      <th>DC</th>\n",
              "      <th>ISI</th>\n",
              "      <th>temp</th>\n",
              "      <th>RH</th>\n",
              "      <th>wind</th>\n",
              "      <th>rain</th>\n",
              "      <th>area</th>\n",
              "    </tr>\n",
              "  </thead>\n",
              "  <tbody>\n",
              "    <tr>\n",
              "      <th>0</th>\n",
              "      <td>7</td>\n",
              "      <td>5</td>\n",
              "      <td>86.2</td>\n",
              "      <td>26.2</td>\n",
              "      <td>94.3</td>\n",
              "      <td>5.1</td>\n",
              "      <td>8.2</td>\n",
              "      <td>51</td>\n",
              "      <td>6.7</td>\n",
              "      <td>0.0</td>\n",
              "      <td>0.0</td>\n",
              "    </tr>\n",
              "    <tr>\n",
              "      <th>1</th>\n",
              "      <td>7</td>\n",
              "      <td>4</td>\n",
              "      <td>90.6</td>\n",
              "      <td>35.4</td>\n",
              "      <td>669.1</td>\n",
              "      <td>6.7</td>\n",
              "      <td>18.0</td>\n",
              "      <td>33</td>\n",
              "      <td>0.9</td>\n",
              "      <td>0.0</td>\n",
              "      <td>0.0</td>\n",
              "    </tr>\n",
              "    <tr>\n",
              "      <th>2</th>\n",
              "      <td>7</td>\n",
              "      <td>4</td>\n",
              "      <td>90.6</td>\n",
              "      <td>43.7</td>\n",
              "      <td>686.9</td>\n",
              "      <td>6.7</td>\n",
              "      <td>14.6</td>\n",
              "      <td>33</td>\n",
              "      <td>1.3</td>\n",
              "      <td>0.0</td>\n",
              "      <td>0.0</td>\n",
              "    </tr>\n",
              "    <tr>\n",
              "      <th>3</th>\n",
              "      <td>8</td>\n",
              "      <td>6</td>\n",
              "      <td>91.7</td>\n",
              "      <td>33.3</td>\n",
              "      <td>77.5</td>\n",
              "      <td>9.0</td>\n",
              "      <td>8.3</td>\n",
              "      <td>97</td>\n",
              "      <td>4.0</td>\n",
              "      <td>0.2</td>\n",
              "      <td>0.0</td>\n",
              "    </tr>\n",
              "    <tr>\n",
              "      <th>4</th>\n",
              "      <td>8</td>\n",
              "      <td>6</td>\n",
              "      <td>89.3</td>\n",
              "      <td>51.3</td>\n",
              "      <td>102.2</td>\n",
              "      <td>9.6</td>\n",
              "      <td>11.4</td>\n",
              "      <td>99</td>\n",
              "      <td>1.8</td>\n",
              "      <td>0.0</td>\n",
              "      <td>0.0</td>\n",
              "    </tr>\n",
              "  </tbody>\n",
              "</table>\n",
              "</div>\n",
              "    <div class=\"colab-df-buttons\">\n",
              "\n",
              "  <div class=\"colab-df-container\">\n",
              "    <button class=\"colab-df-convert\" onclick=\"convertToInteractive('df-5f76f9dc-06ae-40d9-bb9b-dcea275081fe')\"\n",
              "            title=\"Convert this dataframe to an interactive table.\"\n",
              "            style=\"display:none;\">\n",
              "\n",
              "  <svg xmlns=\"http://www.w3.org/2000/svg\" height=\"24px\" viewBox=\"0 -960 960 960\">\n",
              "    <path d=\"M120-120v-720h720v720H120Zm60-500h600v-160H180v160Zm220 220h160v-160H400v160Zm0 220h160v-160H400v160ZM180-400h160v-160H180v160Zm440 0h160v-160H620v160ZM180-180h160v-160H180v160Zm440 0h160v-160H620v160Z\"/>\n",
              "  </svg>\n",
              "    </button>\n",
              "\n",
              "  <style>\n",
              "    .colab-df-container {\n",
              "      display:flex;\n",
              "      gap: 12px;\n",
              "    }\n",
              "\n",
              "    .colab-df-convert {\n",
              "      background-color: #E8F0FE;\n",
              "      border: none;\n",
              "      border-radius: 50%;\n",
              "      cursor: pointer;\n",
              "      display: none;\n",
              "      fill: #1967D2;\n",
              "      height: 32px;\n",
              "      padding: 0 0 0 0;\n",
              "      width: 32px;\n",
              "    }\n",
              "\n",
              "    .colab-df-convert:hover {\n",
              "      background-color: #E2EBFA;\n",
              "      box-shadow: 0px 1px 2px rgba(60, 64, 67, 0.3), 0px 1px 3px 1px rgba(60, 64, 67, 0.15);\n",
              "      fill: #174EA6;\n",
              "    }\n",
              "\n",
              "    .colab-df-buttons div {\n",
              "      margin-bottom: 4px;\n",
              "    }\n",
              "\n",
              "    [theme=dark] .colab-df-convert {\n",
              "      background-color: #3B4455;\n",
              "      fill: #D2E3FC;\n",
              "    }\n",
              "\n",
              "    [theme=dark] .colab-df-convert:hover {\n",
              "      background-color: #434B5C;\n",
              "      box-shadow: 0px 1px 3px 1px rgba(0, 0, 0, 0.15);\n",
              "      filter: drop-shadow(0px 1px 2px rgba(0, 0, 0, 0.3));\n",
              "      fill: #FFFFFF;\n",
              "    }\n",
              "  </style>\n",
              "\n",
              "    <script>\n",
              "      const buttonEl =\n",
              "        document.querySelector('#df-5f76f9dc-06ae-40d9-bb9b-dcea275081fe button.colab-df-convert');\n",
              "      buttonEl.style.display =\n",
              "        google.colab.kernel.accessAllowed ? 'block' : 'none';\n",
              "\n",
              "      async function convertToInteractive(key) {\n",
              "        const element = document.querySelector('#df-5f76f9dc-06ae-40d9-bb9b-dcea275081fe');\n",
              "        const dataTable =\n",
              "          await google.colab.kernel.invokeFunction('convertToInteractive',\n",
              "                                                    [key], {});\n",
              "        if (!dataTable) return;\n",
              "\n",
              "        const docLinkHtml = 'Like what you see? Visit the ' +\n",
              "          '<a target=\"_blank\" href=https://colab.research.google.com/notebooks/data_table.ipynb>data table notebook</a>'\n",
              "          + ' to learn more about interactive tables.';\n",
              "        element.innerHTML = '';\n",
              "        dataTable['output_type'] = 'display_data';\n",
              "        await google.colab.output.renderOutput(dataTable, element);\n",
              "        const docLink = document.createElement('div');\n",
              "        docLink.innerHTML = docLinkHtml;\n",
              "        element.appendChild(docLink);\n",
              "      }\n",
              "    </script>\n",
              "  </div>\n",
              "\n",
              "\n",
              "<div id=\"df-eb32d6bd-f70e-4f17-902f-22af10038f49\">\n",
              "  <button class=\"colab-df-quickchart\" onclick=\"quickchart('df-eb32d6bd-f70e-4f17-902f-22af10038f49')\"\n",
              "            title=\"Suggest charts\"\n",
              "            style=\"display:none;\">\n",
              "\n",
              "<svg xmlns=\"http://www.w3.org/2000/svg\" height=\"24px\"viewBox=\"0 0 24 24\"\n",
              "     width=\"24px\">\n",
              "    <g>\n",
              "        <path d=\"M19 3H5c-1.1 0-2 .9-2 2v14c0 1.1.9 2 2 2h14c1.1 0 2-.9 2-2V5c0-1.1-.9-2-2-2zM9 17H7v-7h2v7zm4 0h-2V7h2v10zm4 0h-2v-4h2v4z\"/>\n",
              "    </g>\n",
              "</svg>\n",
              "  </button>\n",
              "\n",
              "<style>\n",
              "  .colab-df-quickchart {\n",
              "      --bg-color: #E8F0FE;\n",
              "      --fill-color: #1967D2;\n",
              "      --hover-bg-color: #E2EBFA;\n",
              "      --hover-fill-color: #174EA6;\n",
              "      --disabled-fill-color: #AAA;\n",
              "      --disabled-bg-color: #DDD;\n",
              "  }\n",
              "\n",
              "  [theme=dark] .colab-df-quickchart {\n",
              "      --bg-color: #3B4455;\n",
              "      --fill-color: #D2E3FC;\n",
              "      --hover-bg-color: #434B5C;\n",
              "      --hover-fill-color: #FFFFFF;\n",
              "      --disabled-bg-color: #3B4455;\n",
              "      --disabled-fill-color: #666;\n",
              "  }\n",
              "\n",
              "  .colab-df-quickchart {\n",
              "    background-color: var(--bg-color);\n",
              "    border: none;\n",
              "    border-radius: 50%;\n",
              "    cursor: pointer;\n",
              "    display: none;\n",
              "    fill: var(--fill-color);\n",
              "    height: 32px;\n",
              "    padding: 0;\n",
              "    width: 32px;\n",
              "  }\n",
              "\n",
              "  .colab-df-quickchart:hover {\n",
              "    background-color: var(--hover-bg-color);\n",
              "    box-shadow: 0 1px 2px rgba(60, 64, 67, 0.3), 0 1px 3px 1px rgba(60, 64, 67, 0.15);\n",
              "    fill: var(--button-hover-fill-color);\n",
              "  }\n",
              "\n",
              "  .colab-df-quickchart-complete:disabled,\n",
              "  .colab-df-quickchart-complete:disabled:hover {\n",
              "    background-color: var(--disabled-bg-color);\n",
              "    fill: var(--disabled-fill-color);\n",
              "    box-shadow: none;\n",
              "  }\n",
              "\n",
              "  .colab-df-spinner {\n",
              "    border: 2px solid var(--fill-color);\n",
              "    border-color: transparent;\n",
              "    border-bottom-color: var(--fill-color);\n",
              "    animation:\n",
              "      spin 1s steps(1) infinite;\n",
              "  }\n",
              "\n",
              "  @keyframes spin {\n",
              "    0% {\n",
              "      border-color: transparent;\n",
              "      border-bottom-color: var(--fill-color);\n",
              "      border-left-color: var(--fill-color);\n",
              "    }\n",
              "    20% {\n",
              "      border-color: transparent;\n",
              "      border-left-color: var(--fill-color);\n",
              "      border-top-color: var(--fill-color);\n",
              "    }\n",
              "    30% {\n",
              "      border-color: transparent;\n",
              "      border-left-color: var(--fill-color);\n",
              "      border-top-color: var(--fill-color);\n",
              "      border-right-color: var(--fill-color);\n",
              "    }\n",
              "    40% {\n",
              "      border-color: transparent;\n",
              "      border-right-color: var(--fill-color);\n",
              "      border-top-color: var(--fill-color);\n",
              "    }\n",
              "    60% {\n",
              "      border-color: transparent;\n",
              "      border-right-color: var(--fill-color);\n",
              "    }\n",
              "    80% {\n",
              "      border-color: transparent;\n",
              "      border-right-color: var(--fill-color);\n",
              "      border-bottom-color: var(--fill-color);\n",
              "    }\n",
              "    90% {\n",
              "      border-color: transparent;\n",
              "      border-bottom-color: var(--fill-color);\n",
              "    }\n",
              "  }\n",
              "</style>\n",
              "\n",
              "  <script>\n",
              "    async function quickchart(key) {\n",
              "      const quickchartButtonEl =\n",
              "        document.querySelector('#' + key + ' button');\n",
              "      quickchartButtonEl.disabled = true;  // To prevent multiple clicks.\n",
              "      quickchartButtonEl.classList.add('colab-df-spinner');\n",
              "      try {\n",
              "        const charts = await google.colab.kernel.invokeFunction(\n",
              "            'suggestCharts', [key], {});\n",
              "      } catch (error) {\n",
              "        console.error('Error during call to suggestCharts:', error);\n",
              "      }\n",
              "      quickchartButtonEl.classList.remove('colab-df-spinner');\n",
              "      quickchartButtonEl.classList.add('colab-df-quickchart-complete');\n",
              "    }\n",
              "    (() => {\n",
              "      let quickchartButtonEl =\n",
              "        document.querySelector('#df-eb32d6bd-f70e-4f17-902f-22af10038f49 button');\n",
              "      quickchartButtonEl.style.display =\n",
              "        google.colab.kernel.accessAllowed ? 'block' : 'none';\n",
              "    })();\n",
              "  </script>\n",
              "</div>\n",
              "    </div>\n",
              "  </div>\n"
            ],
            "application/vnd.google.colaboratory.intrinsic+json": {
              "type": "dataframe",
              "variable_name": "df",
              "summary": "{\n  \"name\": \"df\",\n  \"rows\": 517,\n  \"fields\": [\n    {\n      \"column\": \"X\",\n      \"properties\": {\n        \"dtype\": \"number\",\n        \"std\": 2,\n        \"min\": 1,\n        \"max\": 9,\n        \"num_unique_values\": 9,\n        \"samples\": [\n          1,\n          8,\n          2\n        ],\n        \"semantic_type\": \"\",\n        \"description\": \"\"\n      }\n    },\n    {\n      \"column\": \"Y\",\n      \"properties\": {\n        \"dtype\": \"number\",\n        \"std\": 1,\n        \"min\": 2,\n        \"max\": 9,\n        \"num_unique_values\": 7,\n        \"samples\": [\n          5,\n          4,\n          9\n        ],\n        \"semantic_type\": \"\",\n        \"description\": \"\"\n      }\n    },\n    {\n      \"column\": \"FFMC\",\n      \"properties\": {\n        \"dtype\": \"number\",\n        \"std\": 5.520110848851269,\n        \"min\": 18.7,\n        \"max\": 96.2,\n        \"num_unique_values\": 106,\n        \"samples\": [\n          95.9,\n          90.9,\n          92.3\n        ],\n        \"semantic_type\": \"\",\n        \"description\": \"\"\n      }\n    },\n    {\n      \"column\": \"DMC\",\n      \"properties\": {\n        \"dtype\": \"number\",\n        \"std\": 64.04648224925425,\n        \"min\": 1.1,\n        \"max\": 291.3,\n        \"num_unique_values\": 215,\n        \"samples\": [\n          121.7,\n          166.9,\n          130.1\n        ],\n        \"semantic_type\": \"\",\n        \"description\": \"\"\n      }\n    },\n    {\n      \"column\": \"DC\",\n      \"properties\": {\n        \"dtype\": \"number\",\n        \"std\": 248.06619170584364,\n        \"min\": 7.9,\n        \"max\": 860.6,\n        \"num_unique_values\": 219,\n        \"samples\": [\n          458.8,\n          700.7,\n          665.6\n        ],\n        \"semantic_type\": \"\",\n        \"description\": \"\"\n      }\n    },\n    {\n      \"column\": \"ISI\",\n      \"properties\": {\n        \"dtype\": \"number\",\n        \"std\": 4.559477175216039,\n        \"min\": 0.0,\n        \"max\": 56.1,\n        \"num_unique_values\": 119,\n        \"samples\": [\n          7.9,\n          18.0,\n          14.7\n        ],\n        \"semantic_type\": \"\",\n        \"description\": \"\"\n      }\n    },\n    {\n      \"column\": \"temp\",\n      \"properties\": {\n        \"dtype\": \"number\",\n        \"std\": 5.806625349573505,\n        \"min\": 2.2,\n        \"max\": 33.3,\n        \"num_unique_values\": 192,\n        \"samples\": [\n          23.0,\n          4.8,\n          11.6\n        ],\n        \"semantic_type\": \"\",\n        \"description\": \"\"\n      }\n    },\n    {\n      \"column\": \"RH\",\n      \"properties\": {\n        \"dtype\": \"number\",\n        \"std\": 16,\n        \"min\": 15,\n        \"max\": 100,\n        \"num_unique_values\": 75,\n        \"samples\": [\n          29,\n          61,\n          72\n        ],\n        \"semantic_type\": \"\",\n        \"description\": \"\"\n      }\n    },\n    {\n      \"column\": \"wind\",\n      \"properties\": {\n        \"dtype\": \"number\",\n        \"std\": 1.7916526009464617,\n        \"min\": 0.4,\n        \"max\": 9.4,\n        \"num_unique_values\": 21,\n        \"samples\": [\n          6.7,\n          8.5,\n          6.3\n        ],\n        \"semantic_type\": \"\",\n        \"description\": \"\"\n      }\n    },\n    {\n      \"column\": \"rain\",\n      \"properties\": {\n        \"dtype\": \"number\",\n        \"std\": 0.295959120890894,\n        \"min\": 0.0,\n        \"max\": 6.4,\n        \"num_unique_values\": 7,\n        \"samples\": [\n          0.0,\n          0.2,\n          0.4\n        ],\n        \"semantic_type\": \"\",\n        \"description\": \"\"\n      }\n    },\n    {\n      \"column\": \"area\",\n      \"properties\": {\n        \"dtype\": \"number\",\n        \"std\": 63.65581846794089,\n        \"min\": 0.0,\n        \"max\": 1090.84,\n        \"num_unique_values\": 251,\n        \"samples\": [\n          7.48,\n          0.71,\n          1.72\n        ],\n        \"semantic_type\": \"\",\n        \"description\": \"\"\n      }\n    }\n  ]\n}"
            }
          },
          "metadata": {},
          "execution_count": 19
        }
      ]
    },
    {
      "cell_type": "code",
      "source": [
        "corr = df.corr()\n",
        "sb.heatmap(corr, square=True, annot=True)\n",
        "plt.show()"
      ],
      "metadata": {
        "execution": {
          "iopub.status.busy": "2023-01-07T07:07:27.306938Z",
          "iopub.execute_input": "2023-01-07T07:07:27.307355Z",
          "iopub.status.idle": "2023-01-07T07:07:28.074347Z",
          "shell.execute_reply.started": "2023-01-07T07:07:27.307321Z",
          "shell.execute_reply": "2023-01-07T07:07:28.072988Z"
        },
        "trusted": true,
        "colab": {
          "base_uri": "https://localhost:8080/",
          "height": 459
        },
        "id": "zWdYQIpk-SzU",
        "outputId": "2ee689a1-f2c8-42cb-a8b5-129ca064cecc"
      },
      "execution_count": null,
      "outputs": [
        {
          "output_type": "display_data",
          "data": {
            "text/plain": [
              "<Figure size 640x480 with 2 Axes>"
            ],
            "image/png": "[encoded data removed]"
          },
          "metadata": {}
        }
      ]
    },
    {
      "cell_type": "markdown",
      "source": [
        "# Modeling"
      ],
      "metadata": {
        "id": "oO2Xcf3j-SzU"
      }
    },
    {
      "cell_type": "code",
      "source": [
        "X = df.loc[:, df.columns !='area'].values\n",
        "y = df['area'].values"
      ],
      "metadata": {
        "execution": {
          "iopub.status.busy": "2023-01-07T07:10:10.160882Z",
          "iopub.execute_input": "2023-01-07T07:10:10.161476Z",
          "iopub.status.idle": "2023-01-07T07:10:10.172446Z",
          "shell.execute_reply.started": "2023-01-07T07:10:10.161412Z",
          "shell.execute_reply": "2023-01-07T07:10:10.170995Z"
        },
        "trusted": true,
        "id": "eCbWC6bA-SzU"
      },
      "execution_count": null,
      "outputs": []
    },
    {
      "cell_type": "code",
      "source": [
        "X"
      ],
      "metadata": {
        "execution": {
          "iopub.status.busy": "2023-01-07T07:10:13.003699Z",
          "iopub.execute_input": "2023-01-07T07:10:13.004172Z",
          "iopub.status.idle": "2023-01-07T07:10:13.013412Z",
          "shell.execute_reply.started": "2023-01-07T07:10:13.004134Z",
          "shell.execute_reply": "2023-01-07T07:10:13.011958Z"
        },
        "trusted": true,
        "colab": {
          "base_uri": "https://localhost:8080/"
        },
        "id": "heMPqfSg-SzV",
        "outputId": "a948788d-7297-4ffe-d92c-ce01f3ebfbef"
      },
      "execution_count": null,
      "outputs": [
        {
          "output_type": "execute_result",
          "data": {
            "text/plain": [
              "array([[ 7. ,  5. , 86.2, ..., 51. ,  6.7,  0. ],\n",
              "       [ 7. ,  4. , 90.6, ..., 33. ,  0.9,  0. ],\n",
              "       [ 7. ,  4. , 90.6, ..., 33. ,  1.3,  0. ],\n",
              "       ...,\n",
              "       [ 7. ,  4. , 81.6, ..., 70. ,  6.7,  0. ],\n",
              "       [ 1. ,  4. , 94.4, ..., 42. ,  4. ,  0. ],\n",
              "       [ 6. ,  3. , 79.5, ..., 31. ,  4.5,  0. ]])"
            ]
          },
          "metadata": {},
          "execution_count": 22
        }
      ]
    },
    {
      "cell_type": "code",
      "source": [
        "X.shape"
      ],
      "metadata": {
        "execution": {
          "iopub.status.busy": "2023-01-07T07:10:25.002307Z",
          "iopub.execute_input": "2023-01-07T07:10:25.003345Z",
          "iopub.status.idle": "2023-01-07T07:10:25.014125Z",
          "shell.execute_reply.started": "2023-01-07T07:10:25.003288Z",
          "shell.execute_reply": "2023-01-07T07:10:25.012673Z"
        },
        "trusted": true,
        "colab": {
          "base_uri": "https://localhost:8080/"
        },
        "id": "3kgNE4Gy-SzV",
        "outputId": "ab9341fc-42b7-47b2-9c77-d3d0e2c3504a"
      },
      "execution_count": null,
      "outputs": [
        {
          "output_type": "execute_result",
          "data": {
            "text/plain": [
              "(517, 10)"
            ]
          },
          "metadata": {},
          "execution_count": 23
        }
      ]
    },
    {
      "cell_type": "code",
      "source": [
        "y = y.reshape(-1,1)\n",
        "y.shape"
      ],
      "metadata": {
        "execution": {
          "iopub.status.busy": "2023-01-07T07:11:10.840587Z",
          "iopub.execute_input": "2023-01-07T07:11:10.840996Z",
          "iopub.status.idle": "2023-01-07T07:11:10.84679Z",
          "shell.execute_reply.started": "2023-01-07T07:11:10.840965Z",
          "shell.execute_reply": "2023-01-07T07:11:10.845475Z"
        },
        "trusted": true,
        "id": "k0xDOeXG-SzV",
        "colab": {
          "base_uri": "https://localhost:8080/"
        },
        "outputId": "09794759-f93d-4d22-c45e-86ed3366b060"
      },
      "execution_count": null,
      "outputs": [
        {
          "output_type": "execute_result",
          "data": {
            "text/plain": [
              "(517, 1)"
            ]
          },
          "metadata": {},
          "execution_count": 53
        }
      ]
    },
    {
      "cell_type": "code",
      "source": [
        "from sklearn.model_selection import train_test_split\n",
        "\n",
        "X_train, X_test, y_train, y_test= train_test_split(X,y, test_size=0.2, random_state=0)\n",
        "print('X_train', X_train.shape)\n",
        "print('X_test', X_test.shape)\n",
        "print('y_train', y_train.shape)\n",
        "print('X_test', y_test.shape)"
      ],
      "metadata": {
        "execution": {
          "iopub.status.busy": "2023-01-07T07:14:31.918499Z",
          "iopub.execute_input": "2023-01-07T07:14:31.918976Z",
          "iopub.status.idle": "2023-01-07T07:14:31.93016Z",
          "shell.execute_reply.started": "2023-01-07T07:14:31.91894Z",
          "shell.execute_reply": "2023-01-07T07:14:31.928405Z"
        },
        "trusted": true,
        "colab": {
          "base_uri": "https://localhost:8080/"
        },
        "id": "sDNeGpho-SzV",
        "outputId": "0973c6e9-581a-4b21-f60e-889b463f2a85"
      },
      "execution_count": null,
      "outputs": [
        {
          "output_type": "stream",
          "name": "stdout",
          "text": [
            "X_train (413, 10)\n",
            "X_test (104, 10)\n",
            "y_train (413, 1)\n",
            "X_test (104, 1)\n"
          ]
        }
      ]
    },
    {
      "cell_type": "code",
      "source": [
        "from sklearn.preprocessing import StandardScaler\n",
        "sc = StandardScaler()\n",
        "X_train[:, :] = sc.fit_transform(X_train[:, :])\n",
        "X_test[:, :] = sc.transform(X_test[:, :])\n",
        "y_train[:, :] = sc.fit_transform(y_train[:, :])\n",
        "y_test[:, :] = sc.transform(y_test[:, :])"
      ],
      "metadata": {
        "execution": {
          "iopub.status.busy": "2023-01-07T07:20:58.091067Z",
          "iopub.execute_input": "2023-01-07T07:20:58.091467Z",
          "iopub.status.idle": "2023-01-07T07:20:58.101516Z",
          "shell.execute_reply.started": "2023-01-07T07:20:58.091437Z",
          "shell.execute_reply": "2023-01-07T07:20:58.10018Z"
        },
        "trusted": true,
        "id": "I0TbrB-s-SzV"
      },
      "execution_count": null,
      "outputs": []
    },
    {
      "cell_type": "code",
      "source": [
        "X_train"
      ],
      "metadata": {
        "execution": {
          "iopub.status.busy": "2023-01-07T07:21:19.85772Z",
          "iopub.execute_input": "2023-01-07T07:21:19.858155Z",
          "iopub.status.idle": "2023-01-07T07:21:19.867138Z",
          "shell.execute_reply.started": "2023-01-07T07:21:19.858121Z",
          "shell.execute_reply": "2023-01-07T07:21:19.865872Z"
        },
        "trusted": true,
        "colab": {
          "base_uri": "https://localhost:8080/"
        },
        "id": "-rxmhpFU-SzV",
        "outputId": "da40b1b0-fb43-4463-e8d8-aaeca4e9175f"
      },
      "execution_count": null,
      "outputs": [
        {
          "output_type": "execute_result",
          "data": {
            "text/plain": [
              "array([[-0.69046229, -0.23274839, -0.02655293, ...,  0.66067453,\n",
              "         0.77617805, -0.07126589],\n",
              "       [-0.25905393, -1.0543303 , -0.06158922, ...,  1.14554095,\n",
              "         0.49997477, -0.07126589],\n",
              "       [-1.55327901, -0.23274839,  0.18366482, ...,  0.35763301,\n",
              "         0.00280885, -0.07126589],\n",
              "       ...,\n",
              "       [ 1.03517115,  0.58883352,  0.32380998, ..., -0.24845002,\n",
              "         0.00280885, -0.07126589],\n",
              "       [-1.55327901, -0.23274839,  0.32380998, ..., -0.30905832,\n",
              "        -0.99152299, -0.07126589],\n",
              "       [-1.12187065, -1.87591221,  0.72672733, ..., -1.33939947,\n",
              "         0.27901213, -0.07126589]])"
            ]
          },
          "metadata": {},
          "execution_count": 28
        }
      ]
    },
    {
      "cell_type": "code",
      "source": [
        "from sklearn.tree import DecisionTreeRegressor\n",
        "\n",
        "dtr = DecisionTreeRegressor(max_depth=6)\n",
        "dtr.fit(X_train,np.ravel(y_train))\n",
        "dtr_pred = dtr.predict(X_test)"
      ],
      "metadata": {
        "execution": {
          "iopub.status.busy": "2023-01-07T07:25:51.220458Z",
          "iopub.execute_input": "2023-01-07T07:25:51.220875Z",
          "iopub.status.idle": "2023-01-07T07:25:51.229541Z",
          "shell.execute_reply.started": "2023-01-07T07:25:51.220843Z",
          "shell.execute_reply": "2023-01-07T07:25:51.228356Z"
        },
        "trusted": true,
        "id": "wWWP1Kqi-SzV"
      },
      "execution_count": null,
      "outputs": []
    },
    {
      "cell_type": "code",
      "source": [
        "from sklearn.metrics import mean_squared_error as mse\n",
        "from sklearn.metrics import mean_absolute_error as mae\n",
        "from sklearn.metrics import r2_score\n",
        "\n",
        "print('MSE =', mse(dtr_pred, y_test))\n",
        "print('MAE =', mae(dtr_pred, y_test))\n",
        "print('R2 Score =', r2_score(dtr_pred, y_test))"
      ],
      "metadata": {
        "execution": {
          "iopub.status.busy": "2023-01-07T07:25:55.871804Z",
          "iopub.execute_input": "2023-01-07T07:25:55.872734Z",
          "iopub.status.idle": "2023-01-07T07:25:55.880986Z",
          "shell.execute_reply.started": "2023-01-07T07:25:55.872688Z",
          "shell.execute_reply": "2023-01-07T07:25:55.879995Z"
        },
        "trusted": true,
        "colab": {
          "base_uri": "https://localhost:8080/"
        },
        "id": "lSuCMQke-SzW",
        "outputId": "a914986e-577f-40b1-c07e-9336888f7e01"
      },
      "execution_count": null,
      "outputs": [
        {
          "output_type": "stream",
          "name": "stdout",
          "text": [
            "MSE = 11.5764400757226\n",
            "MAE = 0.8913239738740381\n",
            "R2 Score = -1.134357315988173\n"
          ]
        }
      ]
    },
    {
      "cell_type": "markdown",
      "source": [
        "Coba reverse matriks"
      ],
      "metadata": {
        "id": "IVvPN4D0-SzW"
      }
    },
    {
      "cell_type": "code",
      "source": [
        "dtr_pred = dtr_pred.reshape(-1,1)"
      ],
      "metadata": {
        "execution": {
          "iopub.status.busy": "2023-01-07T07:25:19.967663Z",
          "iopub.execute_input": "2023-01-07T07:25:19.968075Z",
          "iopub.status.idle": "2023-01-07T07:25:19.973969Z",
          "shell.execute_reply.started": "2023-01-07T07:25:19.968043Z",
          "shell.execute_reply": "2023-01-07T07:25:19.972576Z"
        },
        "trusted": true,
        "id": "HlVHhMTc-SzW"
      },
      "execution_count": null,
      "outputs": []
    },
    {
      "cell_type": "code",
      "source": [
        "dtr_pred = sc.inverse_transform(dtr_pred)"
      ],
      "metadata": {
        "execution": {
          "iopub.status.busy": "2023-01-07T07:25:23.322319Z",
          "iopub.execute_input": "2023-01-07T07:25:23.322741Z",
          "iopub.status.idle": "2023-01-07T07:25:23.328446Z",
          "shell.execute_reply.started": "2023-01-07T07:25:23.322708Z",
          "shell.execute_reply": "2023-01-07T07:25:23.327325Z"
        },
        "trusted": true,
        "id": "Nmw2DY8f-SzX"
      },
      "execution_count": null,
      "outputs": []
    },
    {
      "cell_type": "code",
      "source": [
        "print('MSE =', mse(dtr_pred, y_test))\n",
        "print('MAE =', mae(dtr_pred, y_test))\n",
        "print('R2 Score =', r2_score(dtr_pred, y_test))"
      ],
      "metadata": {
        "execution": {
          "iopub.status.busy": "2023-01-07T07:25:38.995536Z",
          "iopub.execute_input": "2023-01-07T07:25:38.996016Z",
          "iopub.status.idle": "2023-01-07T07:25:39.004917Z",
          "shell.execute_reply.started": "2023-01-07T07:25:38.995979Z",
          "shell.execute_reply": "2023-01-07T07:25:39.003457Z"
        },
        "trusted": true,
        "colab": {
          "base_uri": "https://localhost:8080/"
        },
        "id": "tFCy_nW6-SzX",
        "outputId": "a4dcab1f-3da7-4f7f-965a-6ed57cc56d87"
      },
      "execution_count": null,
      "outputs": [
        {
          "output_type": "stream",
          "name": "stdout",
          "text": [
            "MSE = 11334.027364367977\n",
            "MAE = 23.69511546682109\n",
            "R2 Score = -0.051288308030172036\n"
          ]
        }
      ]
    },
    {
      "cell_type": "code",
      "source": [
        "from sklearn.ensemble import RandomForestRegressor\n",
        "from sklearn.ensemble import GradientBoostingRegressor\n",
        "from sklearn.ensemble import ExtraTreesRegressor\n",
        "from sklearn.linear_model import LogisticRegression"
      ],
      "metadata": {
        "execution": {
          "iopub.status.busy": "2023-01-07T07:40:41.426459Z",
          "iopub.execute_input": "2023-01-07T07:40:41.426868Z",
          "iopub.status.idle": "2023-01-07T07:40:41.432674Z",
          "shell.execute_reply.started": "2023-01-07T07:40:41.426836Z",
          "shell.execute_reply": "2023-01-07T07:40:41.431155Z"
        },
        "trusted": true,
        "id": "J7c0kanY-SzX"
      },
      "execution_count": null,
      "outputs": []
    },
    {
      "cell_type": "code",
      "source": [
        "regresi = RandomForestRegressor(max_depth=4, random_state=0, n_estimators=1000)\n",
        "regresi.fit(X_train, np.ravel(y_train))\n",
        "y_pred = regresi.predict(X_test)"
      ],
      "metadata": {
        "execution": {
          "iopub.status.busy": "2023-01-07T07:40:45.725732Z",
          "iopub.execute_input": "2023-01-07T07:40:45.726134Z",
          "iopub.status.idle": "2023-01-07T07:40:47.556287Z",
          "shell.execute_reply.started": "2023-01-07T07:40:45.726101Z",
          "shell.execute_reply": "2023-01-07T07:40:47.555013Z"
        },
        "trusted": true,
        "id": "gAJy7BtJ-SzX"
      },
      "execution_count": null,
      "outputs": []
    },
    {
      "cell_type": "code",
      "source": [
        "print('MSE =', mse(y_pred, y_test))\n",
        "print('MAE =', mae(y_pred, y_test))\n",
        "print('R2 Score =', r2_score(y_pred, y_test))"
      ],
      "metadata": {
        "execution": {
          "iopub.status.busy": "2023-01-07T07:41:02.303368Z",
          "iopub.execute_input": "2023-01-07T07:41:02.30376Z",
          "iopub.status.idle": "2023-01-07T07:41:02.31121Z",
          "shell.execute_reply.started": "2023-01-07T07:41:02.303729Z",
          "shell.execute_reply": "2023-01-07T07:41:02.309926Z"
        },
        "trusted": true,
        "colab": {
          "base_uri": "https://localhost:8080/"
        },
        "id": "aKRQjygx-SzX",
        "outputId": "74cc9315-2f72-4f10-9b5d-172a47e4a371"
      },
      "execution_count": null,
      "outputs": [
        {
          "output_type": "stream",
          "name": "stdout",
          "text": [
            "MSE = 6.858638371539887\n",
            "MAE = 0.6995922579917188\n",
            "R2 Score = -8.171521323870907\n"
          ]
        }
      ]
    },
    {
      "cell_type": "markdown",
      "source": [
        "Sepertinya kita akan mengambil fitur yang dianggap penting untuk mendapatkan skor tidak minus"
      ],
      "metadata": {
        "id": "zH_9_TzB-SzX"
      }
    },
    {
      "cell_type": "code",
      "source": [
        "from sklearn.model_selection import GridSearchCV\n",
        "from sklearn.ensemble import GradientBoostingRegressor\n",
        "from sklearn.metrics import mean_squared_error, mean_absolute_error, r2_score\n",
        "import numpy as np\n",
        "\n",
        "# Inisialisasi model Gradient Boosting Regressor\n",
        "regressor = GradientBoostingRegressor(random_state=42)\n",
        "\n",
        "# Tentukan grid parameter yang akan diuji\n",
        "param_grid = {\n",
        "    'n_estimators': [100, 200, 300],\n",
        "    'max_depth': [3, 4, 5],\n",
        "    'learning_rate': [0.01, 0.1, 0.2]\n",
        "}\n",
        "\n",
        "# Inisialisasi Grid Search dengan Cross Validation\n",
        "grid_search = GridSearchCV(regressor, param_grid, cv=5, scoring='neg_mean_squared_error')\n",
        "\n",
        "# Lakukan fitting model dengan data\n",
        "grid_search.fit(X_train, np.ravel(y_train))\n",
        "\n",
        "# Dapatkan model terbaik\n",
        "best_model = grid_search.best_estimator_\n",
        "\n",
        "# Lakukan prediksi pada data pengujian\n",
        "y_pred = best_model.predict(X_test)\n",
        "\n",
        "# Hitung metrik evaluasi\n",
        "mse = mean_squared_error(y_test, y_pred)\n",
        "mae = mean_absolute_error(y_test, y_pred)\n",
        "r2 = r2_score(y_test, y_pred)\n",
        "\n",
        "# Cetak hasil evaluasi\n",
        "print('MSE =', mse)\n",
        "print('MAE =', mae)\n",
        "print('R2 Score =', r2)\n"
      ],
      "metadata": {
        "colab": {
          "base_uri": "https://localhost:8080/"
        },
        "id": "NuUDZoTaM1c1",
        "outputId": "cf75cdac-4a93-48bf-ec9f-eec652a004ef"
      },
      "execution_count": null,
      "outputs": [
        {
          "output_type": "stream",
          "name": "stdout",
          "text": [
            "MSE = 11820.63598010068\n",
            "MAE = 25.659624439292607\n",
            "R2 Score = -0.0027888125883426262\n"
          ]
        }
      ]
    }
  ]
}